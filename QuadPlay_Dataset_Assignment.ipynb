{
 "cells": [
  {
   "cell_type": "markdown",
   "id": "ed3e618e",
   "metadata": {},
   "source": [
    "### Problem statement\n",
    "\n",
    "\n",
    "### QuadPay is a payment gateway that lets consumers split purchases into 4 interest free installments, every two weeks. The first 25% is taken when the order is received, and the remaining 3 installments of 25% are automatically taken every 14 days. We help customers manage their cash-flow and we help merchants increase conversion rates and average order values.\n",
    "\n",
    "##### This assignment is designed to help you become familiar with our problem domain and start to think about which scenarios we should anticipate going forward. It gives us an opportunity to evaluate how you approach complex problems."
   ]
  },
  {
   "cell_type": "markdown",
   "id": "82a4120f",
   "metadata": {},
   "source": [
    "#### Training data\n",
    "\n",
    "Orders.csv contains an anonymized set of customer orders, labelled with details about which installments the customer paid. It has the following columns:\n",
    "\n",
    "\n",
    "● order_id : String\n",
    "\n",
    "● customer_id : String\n",
    "\n",
    "● merchant_id : String\n",
    "\n",
    "● order_amount : Decimal\n",
    "\n",
    "\n",
    "● checkout_started_at : Datetime\n",
    "\n",
    "● credit_decision_started_at : Datetime\n",
    "\n",
    "● approved_for_installments: Boolean\n",
    "\n",
    "● customer_credit_score: Integer\n",
    "\n",
    "● customer_age : Integer\n",
    "\n",
    "● customer_billing_zip : String\n",
    "\n",
    "● customer_shipping_zip : String\n",
    "\n",
    "● paid_installment_1 : Boolean\n",
    "\n",
    "● paid_installment_2 : Boolean\n",
    "\n",
    "● paid_installment_3 : Boolean\n",
    "\n",
    "● paid_installment_4 : Boolean"
   ]
  },
  {
   "cell_type": "code",
   "execution_count": 119,
   "id": "864f5618",
   "metadata": {},
   "outputs": [],
   "source": [
    "# Importing the datasets\n",
    "\n",
    "\n",
    "import numpy as np\n",
    "import scipy\n",
    "import pandas as pd\n",
    "import seaborn as sns\n",
    "import matplotlib.pyplot as plt\n",
    "plt.rcParams['figure.figsize'] = (12,8)\n",
    "\n",
    "from sklearn.tree import DecisionTreeClassifier\n",
    "from sklearn.ensemble import RandomForestClassifier\n",
    "from sklearn.linear_model import LogisticRegression\n",
    "from sklearn import metrics\n",
    "from sklearn.metrics import confusion_matrix, classification_report\n",
    "from sklearn.metrics import accuracy_score, precision_score, recall_score, f1_score, log_loss, fbeta_score\n",
    "from sklearn.metrics import auc, roc_curve, roc_auc_score, precision_recall_curve\n",
    "from sklearn.metrics import confusion_matrix, roc_auc_score, roc_curve, classification_report, precision_recall_curve\n",
    "from sklearn.model_selection import train_test_split, cross_val_score, StratifiedKFold, GridSearchCV, RandomizedSearchCV\n",
    "from collections import Counter"
   ]
  },
  {
   "cell_type": "code",
   "execution_count": 120,
   "id": "86f8199a",
   "metadata": {},
   "outputs": [
    {
     "data": {
      "text/html": [
       "<div>\n",
       "<style scoped>\n",
       "    .dataframe tbody tr th:only-of-type {\n",
       "        vertical-align: middle;\n",
       "    }\n",
       "\n",
       "    .dataframe tbody tr th {\n",
       "        vertical-align: top;\n",
       "    }\n",
       "\n",
       "    .dataframe thead th {\n",
       "        text-align: right;\n",
       "    }\n",
       "</style>\n",
       "<table border=\"1\" class=\"dataframe\">\n",
       "  <thead>\n",
       "    <tr style=\"text-align: right;\">\n",
       "      <th></th>\n",
       "      <th>order_id</th>\n",
       "      <th>customer_id</th>\n",
       "      <th>merchant_id</th>\n",
       "      <th>order_amount</th>\n",
       "      <th>checkout_started_at</th>\n",
       "      <th>checkout_started_at.1</th>\n",
       "      <th>checkout_started_at_AUG</th>\n",
       "      <th>checkout_started_at_SEP</th>\n",
       "      <th>checkout_started_at_NOV</th>\n",
       "      <th>credit_decision_started_at</th>\n",
       "      <th>...</th>\n",
       "      <th>Customer_age_BT21_40</th>\n",
       "      <th>Customer_age_BT41_60</th>\n",
       "      <th>Customer_age_GT60</th>\n",
       "      <th>customer_billing_zip</th>\n",
       "      <th>customer_shipping_zip</th>\n",
       "      <th>paid_installment_1</th>\n",
       "      <th>paid_installment_2</th>\n",
       "      <th>paid_installment_3</th>\n",
       "      <th>paid_installment_4</th>\n",
       "      <th>target_column</th>\n",
       "    </tr>\n",
       "  </thead>\n",
       "  <tbody>\n",
       "    <tr>\n",
       "      <th>0</th>\n",
       "      <td>42C39B</td>\n",
       "      <td>9D74A0</td>\n",
       "      <td>6881F9</td>\n",
       "      <td>147.20</td>\n",
       "      <td>2018-10-03 14:26:18</td>\n",
       "      <td>10</td>\n",
       "      <td>0</td>\n",
       "      <td>0</td>\n",
       "      <td>1</td>\n",
       "      <td>2018-10-03 14:26:18.997</td>\n",
       "      <td>...</td>\n",
       "      <td>1</td>\n",
       "      <td>0</td>\n",
       "      <td>0</td>\n",
       "      <td>95407</td>\n",
       "      <td>95407</td>\n",
       "      <td>1</td>\n",
       "      <td>1</td>\n",
       "      <td>1</td>\n",
       "      <td>1</td>\n",
       "      <td>1</td>\n",
       "    </tr>\n",
       "    <tr>\n",
       "      <th>1</th>\n",
       "      <td>A19AC4</td>\n",
       "      <td>2629AB</td>\n",
       "      <td>C37828</td>\n",
       "      <td>69.95</td>\n",
       "      <td>2018-09-21 16:55:03</td>\n",
       "      <td>9</td>\n",
       "      <td>0</td>\n",
       "      <td>1</td>\n",
       "      <td>0</td>\n",
       "      <td>2018-09-21 16:55:05.100</td>\n",
       "      <td>...</td>\n",
       "      <td>0</td>\n",
       "      <td>0</td>\n",
       "      <td>0</td>\n",
       "      <td>85007</td>\n",
       "      <td>85007</td>\n",
       "      <td>1</td>\n",
       "      <td>1</td>\n",
       "      <td>1</td>\n",
       "      <td>1</td>\n",
       "      <td>1</td>\n",
       "    </tr>\n",
       "    <tr>\n",
       "      <th>2</th>\n",
       "      <td>381AFF</td>\n",
       "      <td>793FE0</td>\n",
       "      <td>252600000000</td>\n",
       "      <td>45.00</td>\n",
       "      <td>2018-09-15 13:41:46</td>\n",
       "      <td>9</td>\n",
       "      <td>0</td>\n",
       "      <td>1</td>\n",
       "      <td>0</td>\n",
       "      <td>2018-09-15 13:41:47.197</td>\n",
       "      <td>...</td>\n",
       "      <td>0</td>\n",
       "      <td>1</td>\n",
       "      <td>0</td>\n",
       "      <td>30305-2646</td>\n",
       "      <td>30305-2646</td>\n",
       "      <td>1</td>\n",
       "      <td>1</td>\n",
       "      <td>1</td>\n",
       "      <td>1</td>\n",
       "      <td>1</td>\n",
       "    </tr>\n",
       "    <tr>\n",
       "      <th>3</th>\n",
       "      <td>3184A3</td>\n",
       "      <td>22C696</td>\n",
       "      <td>24FBAF</td>\n",
       "      <td>164.00</td>\n",
       "      <td>2018-10-10 00:59:26</td>\n",
       "      <td>10</td>\n",
       "      <td>0</td>\n",
       "      <td>0</td>\n",
       "      <td>1</td>\n",
       "      <td>2018-10-10 00:59:26.123</td>\n",
       "      <td>...</td>\n",
       "      <td>1</td>\n",
       "      <td>0</td>\n",
       "      <td>0</td>\n",
       "      <td>28562</td>\n",
       "      <td>28562</td>\n",
       "      <td>1</td>\n",
       "      <td>1</td>\n",
       "      <td>1</td>\n",
       "      <td>1</td>\n",
       "      <td>1</td>\n",
       "    </tr>\n",
       "    <tr>\n",
       "      <th>4</th>\n",
       "      <td>237711</td>\n",
       "      <td>D4E94A</td>\n",
       "      <td>6F498E</td>\n",
       "      <td>69.17</td>\n",
       "      <td>2018-09-12 22:53:09</td>\n",
       "      <td>9</td>\n",
       "      <td>0</td>\n",
       "      <td>1</td>\n",
       "      <td>0</td>\n",
       "      <td>2018-09-12 22:53:10.923</td>\n",
       "      <td>...</td>\n",
       "      <td>0</td>\n",
       "      <td>0</td>\n",
       "      <td>0</td>\n",
       "      <td>92324</td>\n",
       "      <td>92324</td>\n",
       "      <td>1</td>\n",
       "      <td>1</td>\n",
       "      <td>1</td>\n",
       "      <td>1</td>\n",
       "      <td>1</td>\n",
       "    </tr>\n",
       "    <tr>\n",
       "      <th>...</th>\n",
       "      <td>...</td>\n",
       "      <td>...</td>\n",
       "      <td>...</td>\n",
       "      <td>...</td>\n",
       "      <td>...</td>\n",
       "      <td>...</td>\n",
       "      <td>...</td>\n",
       "      <td>...</td>\n",
       "      <td>...</td>\n",
       "      <td>...</td>\n",
       "      <td>...</td>\n",
       "      <td>...</td>\n",
       "      <td>...</td>\n",
       "      <td>...</td>\n",
       "      <td>...</td>\n",
       "      <td>...</td>\n",
       "      <td>...</td>\n",
       "      <td>...</td>\n",
       "      <td>...</td>\n",
       "      <td>...</td>\n",
       "      <td>...</td>\n",
       "    </tr>\n",
       "    <tr>\n",
       "      <th>9995</th>\n",
       "      <td>17CAD0</td>\n",
       "      <td>A00DCD</td>\n",
       "      <td>26ECA2</td>\n",
       "      <td>63.66</td>\n",
       "      <td>2018-08-29 01:09:44</td>\n",
       "      <td>8</td>\n",
       "      <td>1</td>\n",
       "      <td>0</td>\n",
       "      <td>0</td>\n",
       "      <td>2018-08-29 01:09:45.343</td>\n",
       "      <td>...</td>\n",
       "      <td>1</td>\n",
       "      <td>0</td>\n",
       "      <td>0</td>\n",
       "      <td>60134</td>\n",
       "      <td>60134</td>\n",
       "      <td>1</td>\n",
       "      <td>1</td>\n",
       "      <td>1</td>\n",
       "      <td>1</td>\n",
       "      <td>1</td>\n",
       "    </tr>\n",
       "    <tr>\n",
       "      <th>9996</th>\n",
       "      <td>BAD8F0</td>\n",
       "      <td>8F5B50</td>\n",
       "      <td>9C0B17</td>\n",
       "      <td>83.89</td>\n",
       "      <td>2018-09-15 15:34:31</td>\n",
       "      <td>9</td>\n",
       "      <td>0</td>\n",
       "      <td>1</td>\n",
       "      <td>0</td>\n",
       "      <td>2018-09-15 15:34:31.723</td>\n",
       "      <td>...</td>\n",
       "      <td>1</td>\n",
       "      <td>0</td>\n",
       "      <td>0</td>\n",
       "      <td>10923</td>\n",
       "      <td>10923</td>\n",
       "      <td>1</td>\n",
       "      <td>1</td>\n",
       "      <td>1</td>\n",
       "      <td>1</td>\n",
       "      <td>1</td>\n",
       "    </tr>\n",
       "    <tr>\n",
       "      <th>9997</th>\n",
       "      <td>70DEB3</td>\n",
       "      <td>BC35EC</td>\n",
       "      <td>268696</td>\n",
       "      <td>95.25</td>\n",
       "      <td>2018-10-05 18:04:20</td>\n",
       "      <td>10</td>\n",
       "      <td>0</td>\n",
       "      <td>0</td>\n",
       "      <td>1</td>\n",
       "      <td>2018-10-05 18:04:20.773</td>\n",
       "      <td>...</td>\n",
       "      <td>0</td>\n",
       "      <td>1</td>\n",
       "      <td>0</td>\n",
       "      <td>60636</td>\n",
       "      <td>60636</td>\n",
       "      <td>1</td>\n",
       "      <td>1</td>\n",
       "      <td>1</td>\n",
       "      <td>1</td>\n",
       "      <td>1</td>\n",
       "    </tr>\n",
       "    <tr>\n",
       "      <th>9998</th>\n",
       "      <td>62754</td>\n",
       "      <td>476671</td>\n",
       "      <td>C37828</td>\n",
       "      <td>79.95</td>\n",
       "      <td>2018-09-21 19:47:59</td>\n",
       "      <td>9</td>\n",
       "      <td>0</td>\n",
       "      <td>1</td>\n",
       "      <td>0</td>\n",
       "      <td>2018-09-21 19:48:00.650</td>\n",
       "      <td>...</td>\n",
       "      <td>0</td>\n",
       "      <td>0</td>\n",
       "      <td>0</td>\n",
       "      <td>87021</td>\n",
       "      <td>87021</td>\n",
       "      <td>1</td>\n",
       "      <td>1</td>\n",
       "      <td>1</td>\n",
       "      <td>1</td>\n",
       "      <td>1</td>\n",
       "    </tr>\n",
       "    <tr>\n",
       "      <th>9999</th>\n",
       "      <td>EFF7C1</td>\n",
       "      <td>EFC4D8</td>\n",
       "      <td>3B88C5</td>\n",
       "      <td>15.50</td>\n",
       "      <td>2018-09-17 20:40:30</td>\n",
       "      <td>9</td>\n",
       "      <td>0</td>\n",
       "      <td>1</td>\n",
       "      <td>0</td>\n",
       "      <td>2018-09-17 20:40:31.923</td>\n",
       "      <td>...</td>\n",
       "      <td>0</td>\n",
       "      <td>0</td>\n",
       "      <td>0</td>\n",
       "      <td>95148</td>\n",
       "      <td>95148</td>\n",
       "      <td>1</td>\n",
       "      <td>1</td>\n",
       "      <td>1</td>\n",
       "      <td>1</td>\n",
       "      <td>1</td>\n",
       "    </tr>\n",
       "  </tbody>\n",
       "</table>\n",
       "<p>10000 rows × 24 columns</p>\n",
       "</div>"
      ],
      "text/plain": [
       "     order_id customer_id   merchant_id  order_amount checkout_started_at  \\\n",
       "0      42C39B      9D74A0        6881F9        147.20 2018-10-03 14:26:18   \n",
       "1      A19AC4      2629AB        C37828         69.95 2018-09-21 16:55:03   \n",
       "2      381AFF      793FE0  252600000000         45.00 2018-09-15 13:41:46   \n",
       "3      3184A3      22C696        24FBAF        164.00 2018-10-10 00:59:26   \n",
       "4      237711      D4E94A        6F498E         69.17 2018-09-12 22:53:09   \n",
       "...       ...         ...           ...           ...                 ...   \n",
       "9995   17CAD0      A00DCD        26ECA2         63.66 2018-08-29 01:09:44   \n",
       "9996   BAD8F0      8F5B50        9C0B17         83.89 2018-09-15 15:34:31   \n",
       "9997   70DEB3      BC35EC        268696         95.25 2018-10-05 18:04:20   \n",
       "9998    62754      476671        C37828         79.95 2018-09-21 19:47:59   \n",
       "9999   EFF7C1      EFC4D8        3B88C5         15.50 2018-09-17 20:40:30   \n",
       "\n",
       "      checkout_started_at.1  checkout_started_at_AUG  checkout_started_at_SEP  \\\n",
       "0                        10                        0                        0   \n",
       "1                         9                        0                        1   \n",
       "2                         9                        0                        1   \n",
       "3                        10                        0                        0   \n",
       "4                         9                        0                        1   \n",
       "...                     ...                      ...                      ...   \n",
       "9995                      8                        1                        0   \n",
       "9996                      9                        0                        1   \n",
       "9997                     10                        0                        0   \n",
       "9998                      9                        0                        1   \n",
       "9999                      9                        0                        1   \n",
       "\n",
       "      checkout_started_at_NOV credit_decision_started_at  ...  \\\n",
       "0                           1    2018-10-03 14:26:18.997  ...   \n",
       "1                           0    2018-09-21 16:55:05.100  ...   \n",
       "2                           0    2018-09-15 13:41:47.197  ...   \n",
       "3                           1    2018-10-10 00:59:26.123  ...   \n",
       "4                           0    2018-09-12 22:53:10.923  ...   \n",
       "...                       ...                        ...  ...   \n",
       "9995                        0    2018-08-29 01:09:45.343  ...   \n",
       "9996                        0    2018-09-15 15:34:31.723  ...   \n",
       "9997                        1    2018-10-05 18:04:20.773  ...   \n",
       "9998                        0    2018-09-21 19:48:00.650  ...   \n",
       "9999                        0    2018-09-17 20:40:31.923  ...   \n",
       "\n",
       "      Customer_age_BT21_40  Customer_age_BT41_60  Customer_age_GT60  \\\n",
       "0                        1                     0                  0   \n",
       "1                        0                     0                  0   \n",
       "2                        0                     1                  0   \n",
       "3                        1                     0                  0   \n",
       "4                        0                     0                  0   \n",
       "...                    ...                   ...                ...   \n",
       "9995                     1                     0                  0   \n",
       "9996                     1                     0                  0   \n",
       "9997                     0                     1                  0   \n",
       "9998                     0                     0                  0   \n",
       "9999                     0                     0                  0   \n",
       "\n",
       "      customer_billing_zip  customer_shipping_zip  paid_installment_1  \\\n",
       "0                    95407                  95407                   1   \n",
       "1                    85007                  85007                   1   \n",
       "2               30305-2646             30305-2646                   1   \n",
       "3                    28562                  28562                   1   \n",
       "4                    92324                  92324                   1   \n",
       "...                    ...                    ...                 ...   \n",
       "9995                 60134                  60134                   1   \n",
       "9996                 10923                  10923                   1   \n",
       "9997                 60636                  60636                   1   \n",
       "9998                 87021                  87021                   1   \n",
       "9999                 95148                  95148                   1   \n",
       "\n",
       "      paid_installment_2 paid_installment_3 paid_installment_4  target_column  \n",
       "0                      1                  1                  1              1  \n",
       "1                      1                  1                  1              1  \n",
       "2                      1                  1                  1              1  \n",
       "3                      1                  1                  1              1  \n",
       "4                      1                  1                  1              1  \n",
       "...                  ...                ...                ...            ...  \n",
       "9995                   1                  1                  1              1  \n",
       "9996                   1                  1                  1              1  \n",
       "9997                   1                  1                  1              1  \n",
       "9998                   1                  1                  1              1  \n",
       "9999                   1                  1                  1              1  \n",
       "\n",
       "[10000 rows x 24 columns]"
      ]
     },
     "execution_count": 120,
     "metadata": {},
     "output_type": "execute_result"
    }
   ],
   "source": [
    "df = pd.read_excel(r'D:\\New_folder\\orders_modified1.xlsx')\n",
    "df"
   ]
  },
  {
   "cell_type": "code",
   "execution_count": 121,
   "id": "7b93d1b8",
   "metadata": {},
   "outputs": [
    {
     "name": "stdout",
     "output_type": "stream",
     "text": [
      "<class 'pandas.core.frame.DataFrame'>\n",
      "RangeIndex: 10000 entries, 0 to 9999\n",
      "Data columns (total 24 columns):\n",
      " #   Column                      Non-Null Count  Dtype         \n",
      "---  ------                      --------------  -----         \n",
      " 0   order_id                    10000 non-null  object        \n",
      " 1   customer_id                 10000 non-null  object        \n",
      " 2   merchant_id                 10000 non-null  object        \n",
      " 3   order_amount                10000 non-null  float64       \n",
      " 4   checkout_started_at         10000 non-null  datetime64[ns]\n",
      " 5   checkout_started_at.1       10000 non-null  int64         \n",
      " 6   checkout_started_at_AUG     10000 non-null  int64         \n",
      " 7   checkout_started_at_SEP     10000 non-null  int64         \n",
      " 8   checkout_started_at_NOV     10000 non-null  int64         \n",
      " 9   credit_decision_started_at  10000 non-null  datetime64[ns]\n",
      " 10  approved_for_installments   10000 non-null  bool          \n",
      " 11  customer_credit_score       10000 non-null  int64         \n",
      " 12  customer_age                10000 non-null  int64         \n",
      " 13  Customer_age_LT20           10000 non-null  int64         \n",
      " 14  Customer_age_BT21_40        10000 non-null  int64         \n",
      " 15  Customer_age_BT41_60        10000 non-null  int64         \n",
      " 16  Customer_age_GT60           10000 non-null  int64         \n",
      " 17  customer_billing_zip        9989 non-null   object        \n",
      " 18  customer_shipping_zip       9977 non-null   object        \n",
      " 19  paid_installment_1          10000 non-null  int64         \n",
      " 20  paid_installment_2          10000 non-null  int64         \n",
      " 21  paid_installment_3          10000 non-null  int64         \n",
      " 22  paid_installment_4          10000 non-null  int64         \n",
      " 23  target_column               10000 non-null  int64         \n",
      "dtypes: bool(1), datetime64[ns](2), float64(1), int64(15), object(5)\n",
      "memory usage: 1.8+ MB\n"
     ]
    }
   ],
   "source": [
    "df.info()"
   ]
  },
  {
   "cell_type": "code",
   "execution_count": 122,
   "id": "71fe694b",
   "metadata": {},
   "outputs": [
    {
     "data": {
      "text/html": [
       "<div>\n",
       "<style scoped>\n",
       "    .dataframe tbody tr th:only-of-type {\n",
       "        vertical-align: middle;\n",
       "    }\n",
       "\n",
       "    .dataframe tbody tr th {\n",
       "        vertical-align: top;\n",
       "    }\n",
       "\n",
       "    .dataframe thead th {\n",
       "        text-align: right;\n",
       "    }\n",
       "</style>\n",
       "<table border=\"1\" class=\"dataframe\">\n",
       "  <thead>\n",
       "    <tr style=\"text-align: right;\">\n",
       "      <th></th>\n",
       "      <th>order_id</th>\n",
       "      <th>customer_id</th>\n",
       "      <th>merchant_id</th>\n",
       "      <th>order_amount</th>\n",
       "      <th>checkout_started_at</th>\n",
       "      <th>checkout_started_at.1</th>\n",
       "      <th>checkout_started_at_AUG</th>\n",
       "      <th>checkout_started_at_SEP</th>\n",
       "      <th>checkout_started_at_NOV</th>\n",
       "      <th>credit_decision_started_at</th>\n",
       "      <th>...</th>\n",
       "      <th>Customer_age_BT21_40</th>\n",
       "      <th>Customer_age_BT41_60</th>\n",
       "      <th>Customer_age_GT60</th>\n",
       "      <th>customer_billing_zip</th>\n",
       "      <th>customer_shipping_zip</th>\n",
       "      <th>paid_installment_1</th>\n",
       "      <th>paid_installment_2</th>\n",
       "      <th>paid_installment_3</th>\n",
       "      <th>paid_installment_4</th>\n",
       "      <th>target_column</th>\n",
       "    </tr>\n",
       "  </thead>\n",
       "  <tbody>\n",
       "    <tr>\n",
       "      <th>0</th>\n",
       "      <td>42C39B</td>\n",
       "      <td>9D74A0</td>\n",
       "      <td>6881F9</td>\n",
       "      <td>147.20</td>\n",
       "      <td>2018-10-03 14:26:18</td>\n",
       "      <td>10</td>\n",
       "      <td>0</td>\n",
       "      <td>0</td>\n",
       "      <td>1</td>\n",
       "      <td>2018-10-03 14:26:18.997</td>\n",
       "      <td>...</td>\n",
       "      <td>1</td>\n",
       "      <td>0</td>\n",
       "      <td>0</td>\n",
       "      <td>95407</td>\n",
       "      <td>95407</td>\n",
       "      <td>1</td>\n",
       "      <td>1</td>\n",
       "      <td>1</td>\n",
       "      <td>1</td>\n",
       "      <td>1</td>\n",
       "    </tr>\n",
       "    <tr>\n",
       "      <th>1</th>\n",
       "      <td>A19AC4</td>\n",
       "      <td>2629AB</td>\n",
       "      <td>C37828</td>\n",
       "      <td>69.95</td>\n",
       "      <td>2018-09-21 16:55:03</td>\n",
       "      <td>9</td>\n",
       "      <td>0</td>\n",
       "      <td>1</td>\n",
       "      <td>0</td>\n",
       "      <td>2018-09-21 16:55:05.100</td>\n",
       "      <td>...</td>\n",
       "      <td>0</td>\n",
       "      <td>0</td>\n",
       "      <td>0</td>\n",
       "      <td>85007</td>\n",
       "      <td>85007</td>\n",
       "      <td>1</td>\n",
       "      <td>1</td>\n",
       "      <td>1</td>\n",
       "      <td>1</td>\n",
       "      <td>1</td>\n",
       "    </tr>\n",
       "    <tr>\n",
       "      <th>2</th>\n",
       "      <td>381AFF</td>\n",
       "      <td>793FE0</td>\n",
       "      <td>252600000000</td>\n",
       "      <td>45.00</td>\n",
       "      <td>2018-09-15 13:41:46</td>\n",
       "      <td>9</td>\n",
       "      <td>0</td>\n",
       "      <td>1</td>\n",
       "      <td>0</td>\n",
       "      <td>2018-09-15 13:41:47.197</td>\n",
       "      <td>...</td>\n",
       "      <td>0</td>\n",
       "      <td>1</td>\n",
       "      <td>0</td>\n",
       "      <td>30305-2646</td>\n",
       "      <td>30305-2646</td>\n",
       "      <td>1</td>\n",
       "      <td>1</td>\n",
       "      <td>1</td>\n",
       "      <td>1</td>\n",
       "      <td>1</td>\n",
       "    </tr>\n",
       "    <tr>\n",
       "      <th>3</th>\n",
       "      <td>3184A3</td>\n",
       "      <td>22C696</td>\n",
       "      <td>24FBAF</td>\n",
       "      <td>164.00</td>\n",
       "      <td>2018-10-10 00:59:26</td>\n",
       "      <td>10</td>\n",
       "      <td>0</td>\n",
       "      <td>0</td>\n",
       "      <td>1</td>\n",
       "      <td>2018-10-10 00:59:26.123</td>\n",
       "      <td>...</td>\n",
       "      <td>1</td>\n",
       "      <td>0</td>\n",
       "      <td>0</td>\n",
       "      <td>28562</td>\n",
       "      <td>28562</td>\n",
       "      <td>1</td>\n",
       "      <td>1</td>\n",
       "      <td>1</td>\n",
       "      <td>1</td>\n",
       "      <td>1</td>\n",
       "    </tr>\n",
       "    <tr>\n",
       "      <th>4</th>\n",
       "      <td>237711</td>\n",
       "      <td>D4E94A</td>\n",
       "      <td>6F498E</td>\n",
       "      <td>69.17</td>\n",
       "      <td>2018-09-12 22:53:09</td>\n",
       "      <td>9</td>\n",
       "      <td>0</td>\n",
       "      <td>1</td>\n",
       "      <td>0</td>\n",
       "      <td>2018-09-12 22:53:10.923</td>\n",
       "      <td>...</td>\n",
       "      <td>0</td>\n",
       "      <td>0</td>\n",
       "      <td>0</td>\n",
       "      <td>92324</td>\n",
       "      <td>92324</td>\n",
       "      <td>1</td>\n",
       "      <td>1</td>\n",
       "      <td>1</td>\n",
       "      <td>1</td>\n",
       "      <td>1</td>\n",
       "    </tr>\n",
       "  </tbody>\n",
       "</table>\n",
       "<p>5 rows × 24 columns</p>\n",
       "</div>"
      ],
      "text/plain": [
       "  order_id customer_id   merchant_id  order_amount checkout_started_at  \\\n",
       "0   42C39B      9D74A0        6881F9        147.20 2018-10-03 14:26:18   \n",
       "1   A19AC4      2629AB        C37828         69.95 2018-09-21 16:55:03   \n",
       "2   381AFF      793FE0  252600000000         45.00 2018-09-15 13:41:46   \n",
       "3   3184A3      22C696        24FBAF        164.00 2018-10-10 00:59:26   \n",
       "4   237711      D4E94A        6F498E         69.17 2018-09-12 22:53:09   \n",
       "\n",
       "   checkout_started_at.1  checkout_started_at_AUG  checkout_started_at_SEP  \\\n",
       "0                     10                        0                        0   \n",
       "1                      9                        0                        1   \n",
       "2                      9                        0                        1   \n",
       "3                     10                        0                        0   \n",
       "4                      9                        0                        1   \n",
       "\n",
       "   checkout_started_at_NOV credit_decision_started_at  ...  \\\n",
       "0                        1    2018-10-03 14:26:18.997  ...   \n",
       "1                        0    2018-09-21 16:55:05.100  ...   \n",
       "2                        0    2018-09-15 13:41:47.197  ...   \n",
       "3                        1    2018-10-10 00:59:26.123  ...   \n",
       "4                        0    2018-09-12 22:53:10.923  ...   \n",
       "\n",
       "   Customer_age_BT21_40  Customer_age_BT41_60  Customer_age_GT60  \\\n",
       "0                     1                     0                  0   \n",
       "1                     0                     0                  0   \n",
       "2                     0                     1                  0   \n",
       "3                     1                     0                  0   \n",
       "4                     0                     0                  0   \n",
       "\n",
       "   customer_billing_zip  customer_shipping_zip  paid_installment_1  \\\n",
       "0                 95407                  95407                   1   \n",
       "1                 85007                  85007                   1   \n",
       "2            30305-2646             30305-2646                   1   \n",
       "3                 28562                  28562                   1   \n",
       "4                 92324                  92324                   1   \n",
       "\n",
       "   paid_installment_2 paid_installment_3 paid_installment_4  target_column  \n",
       "0                   1                  1                  1              1  \n",
       "1                   1                  1                  1              1  \n",
       "2                   1                  1                  1              1  \n",
       "3                   1                  1                  1              1  \n",
       "4                   1                  1                  1              1  \n",
       "\n",
       "[5 rows x 24 columns]"
      ]
     },
     "execution_count": 122,
     "metadata": {},
     "output_type": "execute_result"
    }
   ],
   "source": [
    "df.head()"
   ]
  },
  {
   "cell_type": "markdown",
   "id": "1426b3cc",
   "metadata": {},
   "source": [
    " ##   Note: \"1\" are paid installments in all 4,  whereas \"0\" is not paid installments in either one of the installment.. "
   ]
  },
  {
   "cell_type": "code",
   "execution_count": 123,
   "id": "fec76808",
   "metadata": {},
   "outputs": [
    {
     "data": {
      "text/html": [
       "<div>\n",
       "<style scoped>\n",
       "    .dataframe tbody tr th:only-of-type {\n",
       "        vertical-align: middle;\n",
       "    }\n",
       "\n",
       "    .dataframe tbody tr th {\n",
       "        vertical-align: top;\n",
       "    }\n",
       "\n",
       "    .dataframe thead th {\n",
       "        text-align: right;\n",
       "    }\n",
       "</style>\n",
       "<table border=\"1\" class=\"dataframe\">\n",
       "  <thead>\n",
       "    <tr style=\"text-align: right;\">\n",
       "      <th></th>\n",
       "      <th>order_amount</th>\n",
       "      <th>checkout_started_at.1</th>\n",
       "      <th>checkout_started_at_AUG</th>\n",
       "      <th>checkout_started_at_SEP</th>\n",
       "      <th>checkout_started_at_NOV</th>\n",
       "      <th>customer_credit_score</th>\n",
       "      <th>customer_age</th>\n",
       "      <th>Customer_age_LT20</th>\n",
       "      <th>Customer_age_BT21_40</th>\n",
       "      <th>Customer_age_BT41_60</th>\n",
       "      <th>Customer_age_GT60</th>\n",
       "      <th>paid_installment_1</th>\n",
       "      <th>paid_installment_2</th>\n",
       "      <th>paid_installment_3</th>\n",
       "      <th>paid_installment_4</th>\n",
       "      <th>target_column</th>\n",
       "    </tr>\n",
       "  </thead>\n",
       "  <tbody>\n",
       "    <tr>\n",
       "      <th>count</th>\n",
       "      <td>10000.000000</td>\n",
       "      <td>10000.000000</td>\n",
       "      <td>10000.000000</td>\n",
       "      <td>10000.000000</td>\n",
       "      <td>10000.000000</td>\n",
       "      <td>10000.000000</td>\n",
       "      <td>10000.000000</td>\n",
       "      <td>10000.000000</td>\n",
       "      <td>10000.000000</td>\n",
       "      <td>10000.000000</td>\n",
       "      <td>10000.000000</td>\n",
       "      <td>10000.0</td>\n",
       "      <td>10000.000000</td>\n",
       "      <td>10000.000000</td>\n",
       "      <td>10000.000000</td>\n",
       "      <td>10000.000000</td>\n",
       "    </tr>\n",
       "    <tr>\n",
       "      <th>mean</th>\n",
       "      <td>146.252272</td>\n",
       "      <td>9.289400</td>\n",
       "      <td>0.071700</td>\n",
       "      <td>0.567200</td>\n",
       "      <td>0.361100</td>\n",
       "      <td>613.435900</td>\n",
       "      <td>33.544300</td>\n",
       "      <td>0.086400</td>\n",
       "      <td>0.663600</td>\n",
       "      <td>0.210000</td>\n",
       "      <td>0.040000</td>\n",
       "      <td>1.0</td>\n",
       "      <td>0.977900</td>\n",
       "      <td>0.959700</td>\n",
       "      <td>0.943800</td>\n",
       "      <td>0.930600</td>\n",
       "    </tr>\n",
       "    <tr>\n",
       "      <th>std</th>\n",
       "      <td>167.883106</td>\n",
       "      <td>0.590832</td>\n",
       "      <td>0.258003</td>\n",
       "      <td>0.495488</td>\n",
       "      <td>0.480343</td>\n",
       "      <td>92.555118</td>\n",
       "      <td>11.933729</td>\n",
       "      <td>0.280968</td>\n",
       "      <td>0.472501</td>\n",
       "      <td>0.407329</td>\n",
       "      <td>0.195969</td>\n",
       "      <td>0.0</td>\n",
       "      <td>0.147016</td>\n",
       "      <td>0.196672</td>\n",
       "      <td>0.230319</td>\n",
       "      <td>0.254146</td>\n",
       "    </tr>\n",
       "    <tr>\n",
       "      <th>min</th>\n",
       "      <td>4.950000</td>\n",
       "      <td>8.000000</td>\n",
       "      <td>0.000000</td>\n",
       "      <td>0.000000</td>\n",
       "      <td>0.000000</td>\n",
       "      <td>1.000000</td>\n",
       "      <td>18.000000</td>\n",
       "      <td>0.000000</td>\n",
       "      <td>0.000000</td>\n",
       "      <td>0.000000</td>\n",
       "      <td>0.000000</td>\n",
       "      <td>1.0</td>\n",
       "      <td>0.000000</td>\n",
       "      <td>0.000000</td>\n",
       "      <td>0.000000</td>\n",
       "      <td>0.000000</td>\n",
       "    </tr>\n",
       "    <tr>\n",
       "      <th>25%</th>\n",
       "      <td>64.000000</td>\n",
       "      <td>9.000000</td>\n",
       "      <td>0.000000</td>\n",
       "      <td>0.000000</td>\n",
       "      <td>0.000000</td>\n",
       "      <td>562.000000</td>\n",
       "      <td>24.000000</td>\n",
       "      <td>0.000000</td>\n",
       "      <td>0.000000</td>\n",
       "      <td>0.000000</td>\n",
       "      <td>0.000000</td>\n",
       "      <td>1.0</td>\n",
       "      <td>1.000000</td>\n",
       "      <td>1.000000</td>\n",
       "      <td>1.000000</td>\n",
       "      <td>1.000000</td>\n",
       "    </tr>\n",
       "    <tr>\n",
       "      <th>50%</th>\n",
       "      <td>90.765000</td>\n",
       "      <td>9.000000</td>\n",
       "      <td>0.000000</td>\n",
       "      <td>1.000000</td>\n",
       "      <td>0.000000</td>\n",
       "      <td>611.000000</td>\n",
       "      <td>30.000000</td>\n",
       "      <td>0.000000</td>\n",
       "      <td>1.000000</td>\n",
       "      <td>0.000000</td>\n",
       "      <td>0.000000</td>\n",
       "      <td>1.0</td>\n",
       "      <td>1.000000</td>\n",
       "      <td>1.000000</td>\n",
       "      <td>1.000000</td>\n",
       "      <td>1.000000</td>\n",
       "    </tr>\n",
       "    <tr>\n",
       "      <th>75%</th>\n",
       "      <td>155.000000</td>\n",
       "      <td>10.000000</td>\n",
       "      <td>0.000000</td>\n",
       "      <td>1.000000</td>\n",
       "      <td>1.000000</td>\n",
       "      <td>664.000000</td>\n",
       "      <td>40.250000</td>\n",
       "      <td>0.000000</td>\n",
       "      <td>1.000000</td>\n",
       "      <td>0.000000</td>\n",
       "      <td>0.000000</td>\n",
       "      <td>1.0</td>\n",
       "      <td>1.000000</td>\n",
       "      <td>1.000000</td>\n",
       "      <td>1.000000</td>\n",
       "      <td>1.000000</td>\n",
       "    </tr>\n",
       "    <tr>\n",
       "      <th>max</th>\n",
       "      <td>1936.000000</td>\n",
       "      <td>10.000000</td>\n",
       "      <td>1.000000</td>\n",
       "      <td>1.000000</td>\n",
       "      <td>1.000000</td>\n",
       "      <td>836.000000</td>\n",
       "      <td>89.000000</td>\n",
       "      <td>1.000000</td>\n",
       "      <td>1.000000</td>\n",
       "      <td>1.000000</td>\n",
       "      <td>1.000000</td>\n",
       "      <td>1.0</td>\n",
       "      <td>1.000000</td>\n",
       "      <td>1.000000</td>\n",
       "      <td>1.000000</td>\n",
       "      <td>1.000000</td>\n",
       "    </tr>\n",
       "  </tbody>\n",
       "</table>\n",
       "</div>"
      ],
      "text/plain": [
       "       order_amount  checkout_started_at.1  checkout_started_at_AUG  \\\n",
       "count  10000.000000           10000.000000             10000.000000   \n",
       "mean     146.252272               9.289400                 0.071700   \n",
       "std      167.883106               0.590832                 0.258003   \n",
       "min        4.950000               8.000000                 0.000000   \n",
       "25%       64.000000               9.000000                 0.000000   \n",
       "50%       90.765000               9.000000                 0.000000   \n",
       "75%      155.000000              10.000000                 0.000000   \n",
       "max     1936.000000              10.000000                 1.000000   \n",
       "\n",
       "       checkout_started_at_SEP  checkout_started_at_NOV  \\\n",
       "count             10000.000000             10000.000000   \n",
       "mean                  0.567200                 0.361100   \n",
       "std                   0.495488                 0.480343   \n",
       "min                   0.000000                 0.000000   \n",
       "25%                   0.000000                 0.000000   \n",
       "50%                   1.000000                 0.000000   \n",
       "75%                   1.000000                 1.000000   \n",
       "max                   1.000000                 1.000000   \n",
       "\n",
       "       customer_credit_score  customer_age  Customer_age_LT20  \\\n",
       "count           10000.000000  10000.000000       10000.000000   \n",
       "mean              613.435900     33.544300           0.086400   \n",
       "std                92.555118     11.933729           0.280968   \n",
       "min                 1.000000     18.000000           0.000000   \n",
       "25%               562.000000     24.000000           0.000000   \n",
       "50%               611.000000     30.000000           0.000000   \n",
       "75%               664.000000     40.250000           0.000000   \n",
       "max               836.000000     89.000000           1.000000   \n",
       "\n",
       "       Customer_age_BT21_40  Customer_age_BT41_60  Customer_age_GT60  \\\n",
       "count          10000.000000          10000.000000       10000.000000   \n",
       "mean               0.663600              0.210000           0.040000   \n",
       "std                0.472501              0.407329           0.195969   \n",
       "min                0.000000              0.000000           0.000000   \n",
       "25%                0.000000              0.000000           0.000000   \n",
       "50%                1.000000              0.000000           0.000000   \n",
       "75%                1.000000              0.000000           0.000000   \n",
       "max                1.000000              1.000000           1.000000   \n",
       "\n",
       "       paid_installment_1  paid_installment_2  paid_installment_3  \\\n",
       "count             10000.0        10000.000000        10000.000000   \n",
       "mean                  1.0            0.977900            0.959700   \n",
       "std                   0.0            0.147016            0.196672   \n",
       "min                   1.0            0.000000            0.000000   \n",
       "25%                   1.0            1.000000            1.000000   \n",
       "50%                   1.0            1.000000            1.000000   \n",
       "75%                   1.0            1.000000            1.000000   \n",
       "max                   1.0            1.000000            1.000000   \n",
       "\n",
       "       paid_installment_4  target_column  \n",
       "count        10000.000000   10000.000000  \n",
       "mean             0.943800       0.930600  \n",
       "std              0.230319       0.254146  \n",
       "min              0.000000       0.000000  \n",
       "25%              1.000000       1.000000  \n",
       "50%              1.000000       1.000000  \n",
       "75%              1.000000       1.000000  \n",
       "max              1.000000       1.000000  "
      ]
     },
     "execution_count": 123,
     "metadata": {},
     "output_type": "execute_result"
    }
   ],
   "source": [
    "df.describe()"
   ]
  },
  {
   "cell_type": "code",
   "execution_count": 124,
   "id": "6aaf85e6",
   "metadata": {},
   "outputs": [
    {
     "data": {
      "text/html": [
       "<div>\n",
       "<style scoped>\n",
       "    .dataframe tbody tr th:only-of-type {\n",
       "        vertical-align: middle;\n",
       "    }\n",
       "\n",
       "    .dataframe tbody tr th {\n",
       "        vertical-align: top;\n",
       "    }\n",
       "\n",
       "    .dataframe thead th {\n",
       "        text-align: right;\n",
       "    }\n",
       "</style>\n",
       "<table border=\"1\" class=\"dataframe\">\n",
       "  <thead>\n",
       "    <tr style=\"text-align: right;\">\n",
       "      <th></th>\n",
       "      <th>order_id</th>\n",
       "      <th>customer_id</th>\n",
       "      <th>merchant_id</th>\n",
       "      <th>order_amount</th>\n",
       "      <th>checkout_started_at</th>\n",
       "      <th>checkout_started_at.1</th>\n",
       "      <th>checkout_started_at_AUG</th>\n",
       "      <th>checkout_started_at_SEP</th>\n",
       "      <th>checkout_started_at_NOV</th>\n",
       "      <th>credit_decision_started_at</th>\n",
       "      <th>...</th>\n",
       "      <th>Customer_age_BT21_40</th>\n",
       "      <th>Customer_age_BT41_60</th>\n",
       "      <th>Customer_age_GT60</th>\n",
       "      <th>customer_billing_zip</th>\n",
       "      <th>customer_shipping_zip</th>\n",
       "      <th>paid_installment_1</th>\n",
       "      <th>paid_installment_2</th>\n",
       "      <th>paid_installment_3</th>\n",
       "      <th>paid_installment_4</th>\n",
       "      <th>target_column</th>\n",
       "    </tr>\n",
       "  </thead>\n",
       "  <tbody>\n",
       "    <tr>\n",
       "      <th>0</th>\n",
       "      <td>42C39B</td>\n",
       "      <td>9D74A0</td>\n",
       "      <td>6881F9</td>\n",
       "      <td>147.20</td>\n",
       "      <td>2018-10-03 14:26:18</td>\n",
       "      <td>10</td>\n",
       "      <td>0</td>\n",
       "      <td>0</td>\n",
       "      <td>1</td>\n",
       "      <td>2018-10-03 14:26:18.997</td>\n",
       "      <td>...</td>\n",
       "      <td>1</td>\n",
       "      <td>0</td>\n",
       "      <td>0</td>\n",
       "      <td>95407</td>\n",
       "      <td>95407</td>\n",
       "      <td>1</td>\n",
       "      <td>1</td>\n",
       "      <td>1</td>\n",
       "      <td>1</td>\n",
       "      <td>1</td>\n",
       "    </tr>\n",
       "    <tr>\n",
       "      <th>1</th>\n",
       "      <td>A19AC4</td>\n",
       "      <td>2629AB</td>\n",
       "      <td>C37828</td>\n",
       "      <td>69.95</td>\n",
       "      <td>2018-09-21 16:55:03</td>\n",
       "      <td>9</td>\n",
       "      <td>0</td>\n",
       "      <td>1</td>\n",
       "      <td>0</td>\n",
       "      <td>2018-09-21 16:55:05.100</td>\n",
       "      <td>...</td>\n",
       "      <td>0</td>\n",
       "      <td>0</td>\n",
       "      <td>0</td>\n",
       "      <td>85007</td>\n",
       "      <td>85007</td>\n",
       "      <td>1</td>\n",
       "      <td>1</td>\n",
       "      <td>1</td>\n",
       "      <td>1</td>\n",
       "      <td>1</td>\n",
       "    </tr>\n",
       "    <tr>\n",
       "      <th>2</th>\n",
       "      <td>381AFF</td>\n",
       "      <td>793FE0</td>\n",
       "      <td>252600000000</td>\n",
       "      <td>45.00</td>\n",
       "      <td>2018-09-15 13:41:46</td>\n",
       "      <td>9</td>\n",
       "      <td>0</td>\n",
       "      <td>1</td>\n",
       "      <td>0</td>\n",
       "      <td>2018-09-15 13:41:47.197</td>\n",
       "      <td>...</td>\n",
       "      <td>0</td>\n",
       "      <td>1</td>\n",
       "      <td>0</td>\n",
       "      <td>30305-2646</td>\n",
       "      <td>30305-2646</td>\n",
       "      <td>1</td>\n",
       "      <td>1</td>\n",
       "      <td>1</td>\n",
       "      <td>1</td>\n",
       "      <td>1</td>\n",
       "    </tr>\n",
       "    <tr>\n",
       "      <th>3</th>\n",
       "      <td>3184A3</td>\n",
       "      <td>22C696</td>\n",
       "      <td>24FBAF</td>\n",
       "      <td>164.00</td>\n",
       "      <td>2018-10-10 00:59:26</td>\n",
       "      <td>10</td>\n",
       "      <td>0</td>\n",
       "      <td>0</td>\n",
       "      <td>1</td>\n",
       "      <td>2018-10-10 00:59:26.123</td>\n",
       "      <td>...</td>\n",
       "      <td>1</td>\n",
       "      <td>0</td>\n",
       "      <td>0</td>\n",
       "      <td>28562</td>\n",
       "      <td>28562</td>\n",
       "      <td>1</td>\n",
       "      <td>1</td>\n",
       "      <td>1</td>\n",
       "      <td>1</td>\n",
       "      <td>1</td>\n",
       "    </tr>\n",
       "    <tr>\n",
       "      <th>4</th>\n",
       "      <td>237711</td>\n",
       "      <td>D4E94A</td>\n",
       "      <td>6F498E</td>\n",
       "      <td>69.17</td>\n",
       "      <td>2018-09-12 22:53:09</td>\n",
       "      <td>9</td>\n",
       "      <td>0</td>\n",
       "      <td>1</td>\n",
       "      <td>0</td>\n",
       "      <td>2018-09-12 22:53:10.923</td>\n",
       "      <td>...</td>\n",
       "      <td>0</td>\n",
       "      <td>0</td>\n",
       "      <td>0</td>\n",
       "      <td>92324</td>\n",
       "      <td>92324</td>\n",
       "      <td>1</td>\n",
       "      <td>1</td>\n",
       "      <td>1</td>\n",
       "      <td>1</td>\n",
       "      <td>1</td>\n",
       "    </tr>\n",
       "  </tbody>\n",
       "</table>\n",
       "<p>5 rows × 24 columns</p>\n",
       "</div>"
      ],
      "text/plain": [
       "  order_id customer_id   merchant_id  order_amount checkout_started_at  \\\n",
       "0   42C39B      9D74A0        6881F9        147.20 2018-10-03 14:26:18   \n",
       "1   A19AC4      2629AB        C37828         69.95 2018-09-21 16:55:03   \n",
       "2   381AFF      793FE0  252600000000         45.00 2018-09-15 13:41:46   \n",
       "3   3184A3      22C696        24FBAF        164.00 2018-10-10 00:59:26   \n",
       "4   237711      D4E94A        6F498E         69.17 2018-09-12 22:53:09   \n",
       "\n",
       "   checkout_started_at.1  checkout_started_at_AUG  checkout_started_at_SEP  \\\n",
       "0                     10                        0                        0   \n",
       "1                      9                        0                        1   \n",
       "2                      9                        0                        1   \n",
       "3                     10                        0                        0   \n",
       "4                      9                        0                        1   \n",
       "\n",
       "   checkout_started_at_NOV credit_decision_started_at  ...  \\\n",
       "0                        1    2018-10-03 14:26:18.997  ...   \n",
       "1                        0    2018-09-21 16:55:05.100  ...   \n",
       "2                        0    2018-09-15 13:41:47.197  ...   \n",
       "3                        1    2018-10-10 00:59:26.123  ...   \n",
       "4                        0    2018-09-12 22:53:10.923  ...   \n",
       "\n",
       "   Customer_age_BT21_40  Customer_age_BT41_60  Customer_age_GT60  \\\n",
       "0                     1                     0                  0   \n",
       "1                     0                     0                  0   \n",
       "2                     0                     1                  0   \n",
       "3                     1                     0                  0   \n",
       "4                     0                     0                  0   \n",
       "\n",
       "   customer_billing_zip  customer_shipping_zip  paid_installment_1  \\\n",
       "0                 95407                  95407                   1   \n",
       "1                 85007                  85007                   1   \n",
       "2            30305-2646             30305-2646                   1   \n",
       "3                 28562                  28562                   1   \n",
       "4                 92324                  92324                   1   \n",
       "\n",
       "   paid_installment_2 paid_installment_3 paid_installment_4  target_column  \n",
       "0                   1                  1                  1              1  \n",
       "1                   1                  1                  1              1  \n",
       "2                   1                  1                  1              1  \n",
       "3                   1                  1                  1              1  \n",
       "4                   1                  1                  1              1  \n",
       "\n",
       "[5 rows x 24 columns]"
      ]
     },
     "execution_count": 124,
     "metadata": {},
     "output_type": "execute_result"
    }
   ],
   "source": [
    "df.head()"
   ]
  },
  {
   "cell_type": "code",
   "execution_count": 125,
   "id": "6d4a327a",
   "metadata": {},
   "outputs": [],
   "source": [
    "# Dropping Columns\n",
    "\n",
    "\n",
    "drop_cols = df.drop(['approved_for_installments','customer_billing_zip', 'customer_shipping_zip','checkout_started_at.1'], 1, inplace=True)"
   ]
  },
  {
   "cell_type": "code",
   "execution_count": 126,
   "id": "05580b3c",
   "metadata": {},
   "outputs": [
    {
     "data": {
      "text/html": [
       "<div>\n",
       "<style scoped>\n",
       "    .dataframe tbody tr th:only-of-type {\n",
       "        vertical-align: middle;\n",
       "    }\n",
       "\n",
       "    .dataframe tbody tr th {\n",
       "        vertical-align: top;\n",
       "    }\n",
       "\n",
       "    .dataframe thead th {\n",
       "        text-align: right;\n",
       "    }\n",
       "</style>\n",
       "<table border=\"1\" class=\"dataframe\">\n",
       "  <thead>\n",
       "    <tr style=\"text-align: right;\">\n",
       "      <th></th>\n",
       "      <th>order_id</th>\n",
       "      <th>customer_id</th>\n",
       "      <th>merchant_id</th>\n",
       "      <th>order_amount</th>\n",
       "      <th>checkout_started_at</th>\n",
       "      <th>checkout_started_at_AUG</th>\n",
       "      <th>checkout_started_at_SEP</th>\n",
       "      <th>checkout_started_at_NOV</th>\n",
       "      <th>credit_decision_started_at</th>\n",
       "      <th>customer_credit_score</th>\n",
       "      <th>customer_age</th>\n",
       "      <th>Customer_age_LT20</th>\n",
       "      <th>Customer_age_BT21_40</th>\n",
       "      <th>Customer_age_BT41_60</th>\n",
       "      <th>Customer_age_GT60</th>\n",
       "      <th>paid_installment_1</th>\n",
       "      <th>paid_installment_2</th>\n",
       "      <th>paid_installment_3</th>\n",
       "      <th>paid_installment_4</th>\n",
       "      <th>target_column</th>\n",
       "    </tr>\n",
       "  </thead>\n",
       "  <tbody>\n",
       "    <tr>\n",
       "      <th>0</th>\n",
       "      <td>42C39B</td>\n",
       "      <td>9D74A0</td>\n",
       "      <td>6881F9</td>\n",
       "      <td>147.20</td>\n",
       "      <td>2018-10-03 14:26:18</td>\n",
       "      <td>0</td>\n",
       "      <td>0</td>\n",
       "      <td>1</td>\n",
       "      <td>2018-10-03 14:26:18.997</td>\n",
       "      <td>626</td>\n",
       "      <td>26</td>\n",
       "      <td>0</td>\n",
       "      <td>1</td>\n",
       "      <td>0</td>\n",
       "      <td>0</td>\n",
       "      <td>1</td>\n",
       "      <td>1</td>\n",
       "      <td>1</td>\n",
       "      <td>1</td>\n",
       "      <td>1</td>\n",
       "    </tr>\n",
       "    <tr>\n",
       "      <th>1</th>\n",
       "      <td>A19AC4</td>\n",
       "      <td>2629AB</td>\n",
       "      <td>C37828</td>\n",
       "      <td>69.95</td>\n",
       "      <td>2018-09-21 16:55:03</td>\n",
       "      <td>0</td>\n",
       "      <td>1</td>\n",
       "      <td>0</td>\n",
       "      <td>2018-09-21 16:55:05.100</td>\n",
       "      <td>603</td>\n",
       "      <td>20</td>\n",
       "      <td>1</td>\n",
       "      <td>0</td>\n",
       "      <td>0</td>\n",
       "      <td>0</td>\n",
       "      <td>1</td>\n",
       "      <td>1</td>\n",
       "      <td>1</td>\n",
       "      <td>1</td>\n",
       "      <td>1</td>\n",
       "    </tr>\n",
       "    <tr>\n",
       "      <th>2</th>\n",
       "      <td>381AFF</td>\n",
       "      <td>793FE0</td>\n",
       "      <td>252600000000</td>\n",
       "      <td>45.00</td>\n",
       "      <td>2018-09-15 13:41:46</td>\n",
       "      <td>0</td>\n",
       "      <td>1</td>\n",
       "      <td>0</td>\n",
       "      <td>2018-09-15 13:41:47.197</td>\n",
       "      <td>648</td>\n",
       "      <td>41</td>\n",
       "      <td>0</td>\n",
       "      <td>0</td>\n",
       "      <td>1</td>\n",
       "      <td>0</td>\n",
       "      <td>1</td>\n",
       "      <td>1</td>\n",
       "      <td>1</td>\n",
       "      <td>1</td>\n",
       "      <td>1</td>\n",
       "    </tr>\n",
       "    <tr>\n",
       "      <th>3</th>\n",
       "      <td>3184A3</td>\n",
       "      <td>22C696</td>\n",
       "      <td>24FBAF</td>\n",
       "      <td>164.00</td>\n",
       "      <td>2018-10-10 00:59:26</td>\n",
       "      <td>0</td>\n",
       "      <td>0</td>\n",
       "      <td>1</td>\n",
       "      <td>2018-10-10 00:59:26.123</td>\n",
       "      <td>625</td>\n",
       "      <td>33</td>\n",
       "      <td>0</td>\n",
       "      <td>1</td>\n",
       "      <td>0</td>\n",
       "      <td>0</td>\n",
       "      <td>1</td>\n",
       "      <td>1</td>\n",
       "      <td>1</td>\n",
       "      <td>1</td>\n",
       "      <td>1</td>\n",
       "    </tr>\n",
       "    <tr>\n",
       "      <th>4</th>\n",
       "      <td>237711</td>\n",
       "      <td>D4E94A</td>\n",
       "      <td>6F498E</td>\n",
       "      <td>69.17</td>\n",
       "      <td>2018-09-12 22:53:09</td>\n",
       "      <td>0</td>\n",
       "      <td>1</td>\n",
       "      <td>0</td>\n",
       "      <td>2018-09-12 22:53:10.923</td>\n",
       "      <td>438</td>\n",
       "      <td>18</td>\n",
       "      <td>1</td>\n",
       "      <td>0</td>\n",
       "      <td>0</td>\n",
       "      <td>0</td>\n",
       "      <td>1</td>\n",
       "      <td>1</td>\n",
       "      <td>1</td>\n",
       "      <td>1</td>\n",
       "      <td>1</td>\n",
       "    </tr>\n",
       "    <tr>\n",
       "      <th>...</th>\n",
       "      <td>...</td>\n",
       "      <td>...</td>\n",
       "      <td>...</td>\n",
       "      <td>...</td>\n",
       "      <td>...</td>\n",
       "      <td>...</td>\n",
       "      <td>...</td>\n",
       "      <td>...</td>\n",
       "      <td>...</td>\n",
       "      <td>...</td>\n",
       "      <td>...</td>\n",
       "      <td>...</td>\n",
       "      <td>...</td>\n",
       "      <td>...</td>\n",
       "      <td>...</td>\n",
       "      <td>...</td>\n",
       "      <td>...</td>\n",
       "      <td>...</td>\n",
       "      <td>...</td>\n",
       "      <td>...</td>\n",
       "    </tr>\n",
       "    <tr>\n",
       "      <th>9995</th>\n",
       "      <td>17CAD0</td>\n",
       "      <td>A00DCD</td>\n",
       "      <td>26ECA2</td>\n",
       "      <td>63.66</td>\n",
       "      <td>2018-08-29 01:09:44</td>\n",
       "      <td>1</td>\n",
       "      <td>0</td>\n",
       "      <td>0</td>\n",
       "      <td>2018-08-29 01:09:45.343</td>\n",
       "      <td>613</td>\n",
       "      <td>37</td>\n",
       "      <td>0</td>\n",
       "      <td>1</td>\n",
       "      <td>0</td>\n",
       "      <td>0</td>\n",
       "      <td>1</td>\n",
       "      <td>1</td>\n",
       "      <td>1</td>\n",
       "      <td>1</td>\n",
       "      <td>1</td>\n",
       "    </tr>\n",
       "    <tr>\n",
       "      <th>9996</th>\n",
       "      <td>BAD8F0</td>\n",
       "      <td>8F5B50</td>\n",
       "      <td>9C0B17</td>\n",
       "      <td>83.89</td>\n",
       "      <td>2018-09-15 15:34:31</td>\n",
       "      <td>0</td>\n",
       "      <td>1</td>\n",
       "      <td>0</td>\n",
       "      <td>2018-09-15 15:34:31.723</td>\n",
       "      <td>771</td>\n",
       "      <td>34</td>\n",
       "      <td>0</td>\n",
       "      <td>1</td>\n",
       "      <td>0</td>\n",
       "      <td>0</td>\n",
       "      <td>1</td>\n",
       "      <td>1</td>\n",
       "      <td>1</td>\n",
       "      <td>1</td>\n",
       "      <td>1</td>\n",
       "    </tr>\n",
       "    <tr>\n",
       "      <th>9997</th>\n",
       "      <td>70DEB3</td>\n",
       "      <td>BC35EC</td>\n",
       "      <td>268696</td>\n",
       "      <td>95.25</td>\n",
       "      <td>2018-10-05 18:04:20</td>\n",
       "      <td>0</td>\n",
       "      <td>0</td>\n",
       "      <td>1</td>\n",
       "      <td>2018-10-05 18:04:20.773</td>\n",
       "      <td>611</td>\n",
       "      <td>45</td>\n",
       "      <td>0</td>\n",
       "      <td>0</td>\n",
       "      <td>1</td>\n",
       "      <td>0</td>\n",
       "      <td>1</td>\n",
       "      <td>1</td>\n",
       "      <td>1</td>\n",
       "      <td>1</td>\n",
       "      <td>1</td>\n",
       "    </tr>\n",
       "    <tr>\n",
       "      <th>9998</th>\n",
       "      <td>62754</td>\n",
       "      <td>476671</td>\n",
       "      <td>C37828</td>\n",
       "      <td>79.95</td>\n",
       "      <td>2018-09-21 19:47:59</td>\n",
       "      <td>0</td>\n",
       "      <td>1</td>\n",
       "      <td>0</td>\n",
       "      <td>2018-09-21 19:48:00.650</td>\n",
       "      <td>611</td>\n",
       "      <td>18</td>\n",
       "      <td>1</td>\n",
       "      <td>0</td>\n",
       "      <td>0</td>\n",
       "      <td>0</td>\n",
       "      <td>1</td>\n",
       "      <td>1</td>\n",
       "      <td>1</td>\n",
       "      <td>1</td>\n",
       "      <td>1</td>\n",
       "    </tr>\n",
       "    <tr>\n",
       "      <th>9999</th>\n",
       "      <td>EFF7C1</td>\n",
       "      <td>EFC4D8</td>\n",
       "      <td>3B88C5</td>\n",
       "      <td>15.50</td>\n",
       "      <td>2018-09-17 20:40:30</td>\n",
       "      <td>0</td>\n",
       "      <td>1</td>\n",
       "      <td>0</td>\n",
       "      <td>2018-09-17 20:40:31.923</td>\n",
       "      <td>611</td>\n",
       "      <td>19</td>\n",
       "      <td>1</td>\n",
       "      <td>0</td>\n",
       "      <td>0</td>\n",
       "      <td>0</td>\n",
       "      <td>1</td>\n",
       "      <td>1</td>\n",
       "      <td>1</td>\n",
       "      <td>1</td>\n",
       "      <td>1</td>\n",
       "    </tr>\n",
       "  </tbody>\n",
       "</table>\n",
       "<p>10000 rows × 20 columns</p>\n",
       "</div>"
      ],
      "text/plain": [
       "     order_id customer_id   merchant_id  order_amount checkout_started_at  \\\n",
       "0      42C39B      9D74A0        6881F9        147.20 2018-10-03 14:26:18   \n",
       "1      A19AC4      2629AB        C37828         69.95 2018-09-21 16:55:03   \n",
       "2      381AFF      793FE0  252600000000         45.00 2018-09-15 13:41:46   \n",
       "3      3184A3      22C696        24FBAF        164.00 2018-10-10 00:59:26   \n",
       "4      237711      D4E94A        6F498E         69.17 2018-09-12 22:53:09   \n",
       "...       ...         ...           ...           ...                 ...   \n",
       "9995   17CAD0      A00DCD        26ECA2         63.66 2018-08-29 01:09:44   \n",
       "9996   BAD8F0      8F5B50        9C0B17         83.89 2018-09-15 15:34:31   \n",
       "9997   70DEB3      BC35EC        268696         95.25 2018-10-05 18:04:20   \n",
       "9998    62754      476671        C37828         79.95 2018-09-21 19:47:59   \n",
       "9999   EFF7C1      EFC4D8        3B88C5         15.50 2018-09-17 20:40:30   \n",
       "\n",
       "      checkout_started_at_AUG  checkout_started_at_SEP  \\\n",
       "0                           0                        0   \n",
       "1                           0                        1   \n",
       "2                           0                        1   \n",
       "3                           0                        0   \n",
       "4                           0                        1   \n",
       "...                       ...                      ...   \n",
       "9995                        1                        0   \n",
       "9996                        0                        1   \n",
       "9997                        0                        0   \n",
       "9998                        0                        1   \n",
       "9999                        0                        1   \n",
       "\n",
       "      checkout_started_at_NOV credit_decision_started_at  \\\n",
       "0                           1    2018-10-03 14:26:18.997   \n",
       "1                           0    2018-09-21 16:55:05.100   \n",
       "2                           0    2018-09-15 13:41:47.197   \n",
       "3                           1    2018-10-10 00:59:26.123   \n",
       "4                           0    2018-09-12 22:53:10.923   \n",
       "...                       ...                        ...   \n",
       "9995                        0    2018-08-29 01:09:45.343   \n",
       "9996                        0    2018-09-15 15:34:31.723   \n",
       "9997                        1    2018-10-05 18:04:20.773   \n",
       "9998                        0    2018-09-21 19:48:00.650   \n",
       "9999                        0    2018-09-17 20:40:31.923   \n",
       "\n",
       "      customer_credit_score  customer_age  Customer_age_LT20  \\\n",
       "0                       626            26                  0   \n",
       "1                       603            20                  1   \n",
       "2                       648            41                  0   \n",
       "3                       625            33                  0   \n",
       "4                       438            18                  1   \n",
       "...                     ...           ...                ...   \n",
       "9995                    613            37                  0   \n",
       "9996                    771            34                  0   \n",
       "9997                    611            45                  0   \n",
       "9998                    611            18                  1   \n",
       "9999                    611            19                  1   \n",
       "\n",
       "      Customer_age_BT21_40  Customer_age_BT41_60  Customer_age_GT60  \\\n",
       "0                        1                     0                  0   \n",
       "1                        0                     0                  0   \n",
       "2                        0                     1                  0   \n",
       "3                        1                     0                  0   \n",
       "4                        0                     0                  0   \n",
       "...                    ...                   ...                ...   \n",
       "9995                     1                     0                  0   \n",
       "9996                     1                     0                  0   \n",
       "9997                     0                     1                  0   \n",
       "9998                     0                     0                  0   \n",
       "9999                     0                     0                  0   \n",
       "\n",
       "      paid_installment_1  paid_installment_2  paid_installment_3  \\\n",
       "0                      1                   1                   1   \n",
       "1                      1                   1                   1   \n",
       "2                      1                   1                   1   \n",
       "3                      1                   1                   1   \n",
       "4                      1                   1                   1   \n",
       "...                  ...                 ...                 ...   \n",
       "9995                   1                   1                   1   \n",
       "9996                   1                   1                   1   \n",
       "9997                   1                   1                   1   \n",
       "9998                   1                   1                   1   \n",
       "9999                   1                   1                   1   \n",
       "\n",
       "      paid_installment_4  target_column  \n",
       "0                      1              1  \n",
       "1                      1              1  \n",
       "2                      1              1  \n",
       "3                      1              1  \n",
       "4                      1              1  \n",
       "...                  ...            ...  \n",
       "9995                   1              1  \n",
       "9996                   1              1  \n",
       "9997                   1              1  \n",
       "9998                   1              1  \n",
       "9999                   1              1  \n",
       "\n",
       "[10000 rows x 20 columns]"
      ]
     },
     "execution_count": 126,
     "metadata": {},
     "output_type": "execute_result"
    }
   ],
   "source": [
    "df"
   ]
  },
  {
   "cell_type": "code",
   "execution_count": 127,
   "id": "fb323402",
   "metadata": {},
   "outputs": [
    {
     "data": {
      "text/plain": [
       "array([1, 0], dtype=int64)"
      ]
     },
     "execution_count": 127,
     "metadata": {},
     "output_type": "execute_result"
    }
   ],
   "source": [
    "df['target_column'].unique()"
   ]
  },
  {
   "cell_type": "code",
   "execution_count": 128,
   "id": "74584577",
   "metadata": {},
   "outputs": [
    {
     "data": {
      "text/plain": [
       "order_id                      0\n",
       "customer_id                   0\n",
       "merchant_id                   0\n",
       "order_amount                  0\n",
       "checkout_started_at           0\n",
       "checkout_started_at_AUG       0\n",
       "checkout_started_at_SEP       0\n",
       "checkout_started_at_NOV       0\n",
       "credit_decision_started_at    0\n",
       "customer_credit_score         0\n",
       "customer_age                  0\n",
       "Customer_age_LT20             0\n",
       "Customer_age_BT21_40          0\n",
       "Customer_age_BT41_60          0\n",
       "Customer_age_GT60             0\n",
       "paid_installment_1            0\n",
       "paid_installment_2            0\n",
       "paid_installment_3            0\n",
       "paid_installment_4            0\n",
       "target_column                 0\n",
       "dtype: int64"
      ]
     },
     "execution_count": 128,
     "metadata": {},
     "output_type": "execute_result"
    }
   ],
   "source": [
    "df.isnull().sum()"
   ]
  },
  {
   "cell_type": "markdown",
   "id": "6f60ad07",
   "metadata": {},
   "source": [
    "## Summarize and Visualize  for Exploratory Data Analysis"
   ]
  },
  {
   "cell_type": "markdown",
   "id": "82e3892c",
   "metadata": {},
   "source": [
    "## Finding customers less than 20 who paid and not paid installments properly\n",
    "\n",
    "#  \"1\" are paid installments in all 4,  whereas \"0\" is not paid installments in either 1. "
   ]
  },
  {
   "cell_type": "code",
   "execution_count": 129,
   "id": "ebd0e042",
   "metadata": {},
   "outputs": [
    {
     "data": {
      "text/plain": [
       "Customer_age_LT20\n",
       "0    9136\n",
       "1     864\n",
       "Name: target_column, dtype: int64"
      ]
     },
     "execution_count": 129,
     "metadata": {},
     "output_type": "execute_result"
    }
   ],
   "source": [
    "df_age_LT20= df.groupby([\"Customer_age_LT20\"])['target_column'].count()\n",
    "df_age_LT20.columns=['Customer_age_LT20', 'Not paid installments']\n",
    "df_age_LT20"
   ]
  },
  {
   "cell_type": "code",
   "execution_count": 131,
   "id": "e1b9c7d1",
   "metadata": {},
   "outputs": [
    {
     "data": {
      "text/plain": [
       "Text(0.5, 1.0, 'Customer age Less than 20 whether they paid installments or not')"
      ]
     },
     "execution_count": 131,
     "metadata": {},
     "output_type": "execute_result"
    },
    {
     "data": {
      "image/png": "[encoded data removed]",
      "text/plain": [
       "<Figure size 864x576 with 1 Axes>"
      ]
     },
     "metadata": {},
     "output_type": "display_data"
    }
   ],
   "source": [
    "df_age_LT20.plot(x='Customer_age_LT20', y='not paid installments in all 4', kind='bar')\n",
    "plt.xlabel('Customer_age_LT20',fontsize=20)\n",
    "plt.ylabel('Not paid installments in all 4 ',fontsize=20)\n",
    "plt.title('Customer age Less than 20 whether they paid installments or not',fontsize=20)"
   ]
  },
  {
   "cell_type": "markdown",
   "id": "fd5ce13f",
   "metadata": {},
   "source": [
    "#### Customer age Less Than 20 has 9136 paid and 864 Not paid their installments\n",
    "\n",
    "1.     paid    9136\n",
    "2.  Not paid    864"
   ]
  },
  {
   "cell_type": "markdown",
   "id": "b0c37982",
   "metadata": {},
   "source": [
    "## Finding customers greater than 60 who paid and not paid installments properly\n",
    "\n",
    "####  \"1' are paid installments in all 4,  whereas \"0\" is not paid installments in either 1. "
   ]
  },
  {
   "cell_type": "code",
   "execution_count": 132,
   "id": "a3575988",
   "metadata": {},
   "outputs": [
    {
     "data": {
      "text/plain": [
       "Customer_age_GT60\n",
       "0    9600\n",
       "1     400\n",
       "Name: target_column, dtype: int64"
      ]
     },
     "execution_count": 132,
     "metadata": {},
     "output_type": "execute_result"
    }
   ],
   "source": [
    "df_age_GT60= df.groupby([\"Customer_age_GT60\"])['target_column'].count()\n",
    "df_age_GT60.columns=['Customer_age_GT60', 'paid installments in all 4']\n",
    "df_age_GT60"
   ]
  },
  {
   "cell_type": "code",
   "execution_count": 133,
   "id": "2cb6d91e",
   "metadata": {},
   "outputs": [
    {
     "data": {
      "text/plain": [
       "Text(0.5, 1.0, 'Customer age greater than 60 whether they paid installments or not')"
      ]
     },
     "execution_count": 133,
     "metadata": {},
     "output_type": "execute_result"
    },
    {
     "data": {
      "image/png": "[encoded data removed]",
      "text/plain": [
       "<Figure size 864x576 with 1 Axes>"
      ]
     },
     "metadata": {},
     "output_type": "display_data"
    }
   ],
   "source": [
    "df_age_GT60.plot(x='Customer_age_GT60', y='paid installments in all 4', kind='bar')\n",
    "plt.xlabel('Customer_age_GT60',fontsize=20)\n",
    "plt.ylabel(' Not paid installments in all 4 ',fontsize=20)\n",
    "plt.title('Customer age greater than 60 whether they paid installments or not',fontsize=20)"
   ]
  },
  {
   "cell_type": "markdown",
   "id": "2ed37583",
   "metadata": {},
   "source": [
    "#### Customer age greater Than 60  has 9600 paid and 400 Not paid their installments\n",
    "\n",
    "Customer_age_GT60\n",
    "\n",
    " paid   9600\n",
    " \n",
    " Not paid     400"
   ]
  },
  {
   "cell_type": "markdown",
   "id": "745babf3",
   "metadata": {},
   "source": [
    "## Finding customers between than 21-40 who paid and not paid installments properly\n",
    "\n",
    "####  \"1\" are paid installments in all 4,  whereas \"0\" is not paid installments in either 1. "
   ]
  },
  {
   "cell_type": "code",
   "execution_count": 134,
   "id": "cb17c2c1",
   "metadata": {},
   "outputs": [
    {
     "data": {
      "text/plain": [
       "Customer_age_BT21_40\n",
       "0    3364\n",
       "1    6636\n",
       "Name: target_column, dtype: int64"
      ]
     },
     "execution_count": 134,
     "metadata": {},
     "output_type": "execute_result"
    }
   ],
   "source": [
    "df_age_BT21_40= df.groupby([\"Customer_age_BT21_40\"])['target_column'].count()\n",
    "df_age_BT21_40.columns=['Customer_age_BT21_40', 'paid installments in all 4']\n",
    "df_age_BT21_40"
   ]
  },
  {
   "cell_type": "code",
   "execution_count": 135,
   "id": "f26fcb9f",
   "metadata": {},
   "outputs": [
    {
     "data": {
      "text/plain": [
       "Text(0.5, 1.0, 'Customer age between 21 to 40 whether they paid installments or not')"
      ]
     },
     "execution_count": 135,
     "metadata": {},
     "output_type": "execute_result"
    },
    {
     "data": {
      "image/png": "[encoded data removed]",
      "text/plain": [
       "<Figure size 864x576 with 1 Axes>"
      ]
     },
     "metadata": {},
     "output_type": "display_data"
    }
   ],
   "source": [
    "df_age_BT21_40.plot(x='Customer_age_BT21_40', y='paid installments in all 4', kind='bar')\n",
    "plt.xlabel('Customer_age_BT21_40',fontsize=20)\n",
    "plt.ylabel('Not paid installments in all 4 ',fontsize=20)\n",
    "plt.title('Customer age between 21 to 40 whether they paid installments or not',fontsize=20)"
   ]
  },
  {
   "cell_type": "markdown",
   "id": "bcd8de92",
   "metadata": {},
   "source": [
    "#### Customer age between 21-40  has 3364 paid and 6636 Not paid their installments\n",
    "\n",
    "Customer_age_BT21_40\n",
    "\n",
    "1   3364\n",
    "\n",
    "0   6636\n",
    "\n",
    "\n",
    "### This shows that customers between 21-40 are not paying the installments properly"
   ]
  },
  {
   "cell_type": "markdown",
   "id": "2c6802f0",
   "metadata": {},
   "source": [
    "## Finding customers between than 41-60 who paid and not paid installments properly\n",
    "\n",
    "####  \"1\" are paid installments in all 4,  whereas \"0\" is not paid installments in either 1. "
   ]
  },
  {
   "cell_type": "code",
   "execution_count": 136,
   "id": "a41aab3c",
   "metadata": {},
   "outputs": [
    {
     "data": {
      "text/plain": [
       "Customer_age_BT41_60\n",
       "0    7900\n",
       "1    2100\n",
       "Name: target_column, dtype: int64"
      ]
     },
     "execution_count": 136,
     "metadata": {},
     "output_type": "execute_result"
    }
   ],
   "source": [
    "df_age_BT41_60= df.groupby([\"Customer_age_BT41_60\"])['target_column'].count()\n",
    "df_age_BT41_60.columns=['Customer_age_BT41_60', 'Not paid installments in all 4']\n",
    "df_age_BT41_60"
   ]
  },
  {
   "cell_type": "code",
   "execution_count": 137,
   "id": "baba81fc",
   "metadata": {},
   "outputs": [
    {
     "data": {
      "text/plain": [
       "Text(0.5, 1.0, 'Customer age between 41 to 60 whether they paid installments or not')"
      ]
     },
     "execution_count": 137,
     "metadata": {},
     "output_type": "execute_result"
    },
    {
     "data": {
      "image/png": "[encoded data removed]",
      "text/plain": [
       "<Figure size 864x576 with 1 Axes>"
      ]
     },
     "metadata": {},
     "output_type": "display_data"
    }
   ],
   "source": [
    "df_age_BT41_60.plot(x='Customer_age_BT41_60', y='Not paid installments in all 4', kind='bar')\n",
    "plt.xlabel('Customer_age_BT41_60',fontsize=20)\n",
    "plt.ylabel(' Not paid installments in all 4 ',fontsize=20)\n",
    "plt.title('Customer age between 41 to 60 whether they paid installments or not',fontsize=20)"
   ]
  },
  {
   "cell_type": "markdown",
   "id": "09df0dec",
   "metadata": {},
   "source": [
    "#### Customer age between 41-60  has 7900 paid and 2100 Not paid their installments\n",
    "\n",
    "Customer_age_BT41_60\n",
    "\n",
    "1   7900\n",
    "\n",
    "\n",
    "0    2100\n",
    "\n",
    "\n",
    "### This shows that customer ages between 41-60 are not paying the installments properly after 21-40 age "
   ]
  },
  {
   "cell_type": "markdown",
   "id": "466d66a9",
   "metadata": {},
   "source": [
    "## Finding the month which has lease installments paid by the customers\n",
    "\n",
    "####  \"1\" are paid installments in all 4,  whereas \"0\" is not paid installments in either 1. "
   ]
  },
  {
   "cell_type": "markdown",
   "id": "db07dbdf",
   "metadata": {},
   "source": [
    "#### customer_age vs defaulted"
   ]
  },
  {
   "cell_type": "code",
   "execution_count": 139,
   "id": "493114b4",
   "metadata": {},
   "outputs": [
    {
     "data": {
      "image/png": "[encoded data removed]",
      "text/plain": [
       "<Figure size 864x504 with 1 Axes>"
      ]
     },
     "metadata": {},
     "output_type": "display_data"
    }
   ],
   "source": [
    "plt.figure(figsize=(12, 7))\n",
    "sns.boxplot(x='defaulted',y='customer_age',data=filtered_orders,palette='winter')\n",
    "plt.show()"
   ]
  },
  {
   "cell_type": "markdown",
   "id": "8fea1fcb",
   "metadata": {},
   "source": [
    "#### customer_credit_score vs defaulted"
   ]
  },
  {
   "cell_type": "code",
   "execution_count": 140,
   "id": "2ac73d12",
   "metadata": {},
   "outputs": [
    {
     "data": {
      "image/png": "[encoded data removed]",
      "text/plain": [
       "<Figure size 864x504 with 1 Axes>"
      ]
     },
     "metadata": {},
     "output_type": "display_data"
    }
   ],
   "source": [
    "plt.figure(figsize=(12, 7))\n",
    "sns.boxplot(x='defaulted',y='customer_credit_score',data=filtered_orders,palette='winter')\n",
    "plt.show()"
   ]
  },
  {
   "cell_type": "code",
   "execution_count": 25,
   "id": "e4d3ade0",
   "metadata": {},
   "outputs": [
    {
     "data": {
      "text/html": [
       "<div>\n",
       "<style scoped>\n",
       "    .dataframe tbody tr th:only-of-type {\n",
       "        vertical-align: middle;\n",
       "    }\n",
       "\n",
       "    .dataframe tbody tr th {\n",
       "        vertical-align: top;\n",
       "    }\n",
       "\n",
       "    .dataframe thead th {\n",
       "        text-align: right;\n",
       "    }\n",
       "</style>\n",
       "<table border=\"1\" class=\"dataframe\">\n",
       "  <thead>\n",
       "    <tr style=\"text-align: right;\">\n",
       "      <th></th>\n",
       "      <th>order_id</th>\n",
       "      <th>customer_id</th>\n",
       "      <th>merchant_id</th>\n",
       "      <th>order_amount</th>\n",
       "      <th>checkout_started_at</th>\n",
       "      <th>checkout_started_at_AUG</th>\n",
       "      <th>checkout_started_at_SEP</th>\n",
       "      <th>checkout_started_at_NOV</th>\n",
       "      <th>credit_decision_started_at</th>\n",
       "      <th>customer_credit_score</th>\n",
       "      <th>customer_age</th>\n",
       "      <th>Customer_age_LT20</th>\n",
       "      <th>Customer_age_BT21_40</th>\n",
       "      <th>Customer_age_BT41_60</th>\n",
       "      <th>Customer_age_GT60</th>\n",
       "      <th>paid_installment_1</th>\n",
       "      <th>paid_installment_2</th>\n",
       "      <th>paid_installment_3</th>\n",
       "      <th>paid_installment_4</th>\n",
       "      <th>target_column</th>\n",
       "    </tr>\n",
       "  </thead>\n",
       "  <tbody>\n",
       "    <tr>\n",
       "      <th>0</th>\n",
       "      <td>42C39B</td>\n",
       "      <td>9D74A0</td>\n",
       "      <td>6881F9</td>\n",
       "      <td>147.20</td>\n",
       "      <td>2018-10-03 14:26:18</td>\n",
       "      <td>0</td>\n",
       "      <td>0</td>\n",
       "      <td>1</td>\n",
       "      <td>2018-10-03 14:26:18.997</td>\n",
       "      <td>626</td>\n",
       "      <td>26</td>\n",
       "      <td>0</td>\n",
       "      <td>1</td>\n",
       "      <td>0</td>\n",
       "      <td>0</td>\n",
       "      <td>1</td>\n",
       "      <td>1</td>\n",
       "      <td>1</td>\n",
       "      <td>1</td>\n",
       "      <td>0</td>\n",
       "    </tr>\n",
       "    <tr>\n",
       "      <th>1</th>\n",
       "      <td>A19AC4</td>\n",
       "      <td>2629AB</td>\n",
       "      <td>C37828</td>\n",
       "      <td>69.95</td>\n",
       "      <td>2018-09-21 16:55:03</td>\n",
       "      <td>0</td>\n",
       "      <td>1</td>\n",
       "      <td>0</td>\n",
       "      <td>2018-09-21 16:55:05.100</td>\n",
       "      <td>603</td>\n",
       "      <td>20</td>\n",
       "      <td>1</td>\n",
       "      <td>0</td>\n",
       "      <td>0</td>\n",
       "      <td>0</td>\n",
       "      <td>1</td>\n",
       "      <td>1</td>\n",
       "      <td>1</td>\n",
       "      <td>1</td>\n",
       "      <td>0</td>\n",
       "    </tr>\n",
       "    <tr>\n",
       "      <th>2</th>\n",
       "      <td>381AFF</td>\n",
       "      <td>793FE0</td>\n",
       "      <td>252600000000</td>\n",
       "      <td>45.00</td>\n",
       "      <td>2018-09-15 13:41:46</td>\n",
       "      <td>0</td>\n",
       "      <td>1</td>\n",
       "      <td>0</td>\n",
       "      <td>2018-09-15 13:41:47.197</td>\n",
       "      <td>648</td>\n",
       "      <td>41</td>\n",
       "      <td>0</td>\n",
       "      <td>0</td>\n",
       "      <td>1</td>\n",
       "      <td>0</td>\n",
       "      <td>1</td>\n",
       "      <td>1</td>\n",
       "      <td>1</td>\n",
       "      <td>1</td>\n",
       "      <td>0</td>\n",
       "    </tr>\n",
       "    <tr>\n",
       "      <th>3</th>\n",
       "      <td>3184A3</td>\n",
       "      <td>22C696</td>\n",
       "      <td>24FBAF</td>\n",
       "      <td>164.00</td>\n",
       "      <td>2018-10-10 00:59:26</td>\n",
       "      <td>0</td>\n",
       "      <td>0</td>\n",
       "      <td>1</td>\n",
       "      <td>2018-10-10 00:59:26.123</td>\n",
       "      <td>625</td>\n",
       "      <td>33</td>\n",
       "      <td>0</td>\n",
       "      <td>1</td>\n",
       "      <td>0</td>\n",
       "      <td>0</td>\n",
       "      <td>1</td>\n",
       "      <td>1</td>\n",
       "      <td>1</td>\n",
       "      <td>1</td>\n",
       "      <td>0</td>\n",
       "    </tr>\n",
       "    <tr>\n",
       "      <th>4</th>\n",
       "      <td>237711</td>\n",
       "      <td>D4E94A</td>\n",
       "      <td>6F498E</td>\n",
       "      <td>69.17</td>\n",
       "      <td>2018-09-12 22:53:09</td>\n",
       "      <td>0</td>\n",
       "      <td>1</td>\n",
       "      <td>0</td>\n",
       "      <td>2018-09-12 22:53:10.923</td>\n",
       "      <td>438</td>\n",
       "      <td>18</td>\n",
       "      <td>1</td>\n",
       "      <td>0</td>\n",
       "      <td>0</td>\n",
       "      <td>0</td>\n",
       "      <td>1</td>\n",
       "      <td>1</td>\n",
       "      <td>1</td>\n",
       "      <td>1</td>\n",
       "      <td>0</td>\n",
       "    </tr>\n",
       "    <tr>\n",
       "      <th>...</th>\n",
       "      <td>...</td>\n",
       "      <td>...</td>\n",
       "      <td>...</td>\n",
       "      <td>...</td>\n",
       "      <td>...</td>\n",
       "      <td>...</td>\n",
       "      <td>...</td>\n",
       "      <td>...</td>\n",
       "      <td>...</td>\n",
       "      <td>...</td>\n",
       "      <td>...</td>\n",
       "      <td>...</td>\n",
       "      <td>...</td>\n",
       "      <td>...</td>\n",
       "      <td>...</td>\n",
       "      <td>...</td>\n",
       "      <td>...</td>\n",
       "      <td>...</td>\n",
       "      <td>...</td>\n",
       "      <td>...</td>\n",
       "    </tr>\n",
       "    <tr>\n",
       "      <th>9995</th>\n",
       "      <td>17CAD0</td>\n",
       "      <td>A00DCD</td>\n",
       "      <td>26ECA2</td>\n",
       "      <td>63.66</td>\n",
       "      <td>2018-08-29 01:09:44</td>\n",
       "      <td>1</td>\n",
       "      <td>0</td>\n",
       "      <td>0</td>\n",
       "      <td>2018-08-29 01:09:45.343</td>\n",
       "      <td>613</td>\n",
       "      <td>37</td>\n",
       "      <td>0</td>\n",
       "      <td>1</td>\n",
       "      <td>0</td>\n",
       "      <td>0</td>\n",
       "      <td>1</td>\n",
       "      <td>1</td>\n",
       "      <td>1</td>\n",
       "      <td>1</td>\n",
       "      <td>0</td>\n",
       "    </tr>\n",
       "    <tr>\n",
       "      <th>9996</th>\n",
       "      <td>BAD8F0</td>\n",
       "      <td>8F5B50</td>\n",
       "      <td>9C0B17</td>\n",
       "      <td>83.89</td>\n",
       "      <td>2018-09-15 15:34:31</td>\n",
       "      <td>0</td>\n",
       "      <td>1</td>\n",
       "      <td>0</td>\n",
       "      <td>2018-09-15 15:34:31.723</td>\n",
       "      <td>771</td>\n",
       "      <td>34</td>\n",
       "      <td>0</td>\n",
       "      <td>1</td>\n",
       "      <td>0</td>\n",
       "      <td>0</td>\n",
       "      <td>1</td>\n",
       "      <td>1</td>\n",
       "      <td>1</td>\n",
       "      <td>1</td>\n",
       "      <td>0</td>\n",
       "    </tr>\n",
       "    <tr>\n",
       "      <th>9997</th>\n",
       "      <td>70DEB3</td>\n",
       "      <td>BC35EC</td>\n",
       "      <td>268696</td>\n",
       "      <td>95.25</td>\n",
       "      <td>2018-10-05 18:04:20</td>\n",
       "      <td>0</td>\n",
       "      <td>0</td>\n",
       "      <td>1</td>\n",
       "      <td>2018-10-05 18:04:20.773</td>\n",
       "      <td>611</td>\n",
       "      <td>45</td>\n",
       "      <td>0</td>\n",
       "      <td>0</td>\n",
       "      <td>1</td>\n",
       "      <td>0</td>\n",
       "      <td>1</td>\n",
       "      <td>1</td>\n",
       "      <td>1</td>\n",
       "      <td>1</td>\n",
       "      <td>0</td>\n",
       "    </tr>\n",
       "    <tr>\n",
       "      <th>9998</th>\n",
       "      <td>62754</td>\n",
       "      <td>476671</td>\n",
       "      <td>C37828</td>\n",
       "      <td>79.95</td>\n",
       "      <td>2018-09-21 19:47:59</td>\n",
       "      <td>0</td>\n",
       "      <td>1</td>\n",
       "      <td>0</td>\n",
       "      <td>2018-09-21 19:48:00.650</td>\n",
       "      <td>611</td>\n",
       "      <td>18</td>\n",
       "      <td>1</td>\n",
       "      <td>0</td>\n",
       "      <td>0</td>\n",
       "      <td>0</td>\n",
       "      <td>1</td>\n",
       "      <td>1</td>\n",
       "      <td>1</td>\n",
       "      <td>1</td>\n",
       "      <td>0</td>\n",
       "    </tr>\n",
       "    <tr>\n",
       "      <th>9999</th>\n",
       "      <td>EFF7C1</td>\n",
       "      <td>EFC4D8</td>\n",
       "      <td>3B88C5</td>\n",
       "      <td>15.50</td>\n",
       "      <td>2018-09-17 20:40:30</td>\n",
       "      <td>0</td>\n",
       "      <td>1</td>\n",
       "      <td>0</td>\n",
       "      <td>2018-09-17 20:40:31.923</td>\n",
       "      <td>611</td>\n",
       "      <td>19</td>\n",
       "      <td>1</td>\n",
       "      <td>0</td>\n",
       "      <td>0</td>\n",
       "      <td>0</td>\n",
       "      <td>1</td>\n",
       "      <td>1</td>\n",
       "      <td>1</td>\n",
       "      <td>1</td>\n",
       "      <td>0</td>\n",
       "    </tr>\n",
       "  </tbody>\n",
       "</table>\n",
       "<p>10000 rows × 20 columns</p>\n",
       "</div>"
      ],
      "text/plain": [
       "     order_id customer_id   merchant_id  order_amount checkout_started_at  \\\n",
       "0      42C39B      9D74A0        6881F9        147.20 2018-10-03 14:26:18   \n",
       "1      A19AC4      2629AB        C37828         69.95 2018-09-21 16:55:03   \n",
       "2      381AFF      793FE0  252600000000         45.00 2018-09-15 13:41:46   \n",
       "3      3184A3      22C696        24FBAF        164.00 2018-10-10 00:59:26   \n",
       "4      237711      D4E94A        6F498E         69.17 2018-09-12 22:53:09   \n",
       "...       ...         ...           ...           ...                 ...   \n",
       "9995   17CAD0      A00DCD        26ECA2         63.66 2018-08-29 01:09:44   \n",
       "9996   BAD8F0      8F5B50        9C0B17         83.89 2018-09-15 15:34:31   \n",
       "9997   70DEB3      BC35EC        268696         95.25 2018-10-05 18:04:20   \n",
       "9998    62754      476671        C37828         79.95 2018-09-21 19:47:59   \n",
       "9999   EFF7C1      EFC4D8        3B88C5         15.50 2018-09-17 20:40:30   \n",
       "\n",
       "      checkout_started_at_AUG  checkout_started_at_SEP  \\\n",
       "0                           0                        0   \n",
       "1                           0                        1   \n",
       "2                           0                        1   \n",
       "3                           0                        0   \n",
       "4                           0                        1   \n",
       "...                       ...                      ...   \n",
       "9995                        1                        0   \n",
       "9996                        0                        1   \n",
       "9997                        0                        0   \n",
       "9998                        0                        1   \n",
       "9999                        0                        1   \n",
       "\n",
       "      checkout_started_at_NOV credit_decision_started_at  \\\n",
       "0                           1    2018-10-03 14:26:18.997   \n",
       "1                           0    2018-09-21 16:55:05.100   \n",
       "2                           0    2018-09-15 13:41:47.197   \n",
       "3                           1    2018-10-10 00:59:26.123   \n",
       "4                           0    2018-09-12 22:53:10.923   \n",
       "...                       ...                        ...   \n",
       "9995                        0    2018-08-29 01:09:45.343   \n",
       "9996                        0    2018-09-15 15:34:31.723   \n",
       "9997                        1    2018-10-05 18:04:20.773   \n",
       "9998                        0    2018-09-21 19:48:00.650   \n",
       "9999                        0    2018-09-17 20:40:31.923   \n",
       "\n",
       "      customer_credit_score  customer_age  Customer_age_LT20  \\\n",
       "0                       626            26                  0   \n",
       "1                       603            20                  1   \n",
       "2                       648            41                  0   \n",
       "3                       625            33                  0   \n",
       "4                       438            18                  1   \n",
       "...                     ...           ...                ...   \n",
       "9995                    613            37                  0   \n",
       "9996                    771            34                  0   \n",
       "9997                    611            45                  0   \n",
       "9998                    611            18                  1   \n",
       "9999                    611            19                  1   \n",
       "\n",
       "      Customer_age_BT21_40  Customer_age_BT41_60  Customer_age_GT60  \\\n",
       "0                        1                     0                  0   \n",
       "1                        0                     0                  0   \n",
       "2                        0                     1                  0   \n",
       "3                        1                     0                  0   \n",
       "4                        0                     0                  0   \n",
       "...                    ...                   ...                ...   \n",
       "9995                     1                     0                  0   \n",
       "9996                     1                     0                  0   \n",
       "9997                     0                     1                  0   \n",
       "9998                     0                     0                  0   \n",
       "9999                     0                     0                  0   \n",
       "\n",
       "      paid_installment_1  paid_installment_2  paid_installment_3  \\\n",
       "0                      1                   1                   1   \n",
       "1                      1                   1                   1   \n",
       "2                      1                   1                   1   \n",
       "3                      1                   1                   1   \n",
       "4                      1                   1                   1   \n",
       "...                  ...                 ...                 ...   \n",
       "9995                   1                   1                   1   \n",
       "9996                   1                   1                   1   \n",
       "9997                   1                   1                   1   \n",
       "9998                   1                   1                   1   \n",
       "9999                   1                   1                   1   \n",
       "\n",
       "      paid_installment_4  target_column  \n",
       "0                      1              0  \n",
       "1                      1              0  \n",
       "2                      1              0  \n",
       "3                      1              0  \n",
       "4                      1              0  \n",
       "...                  ...            ...  \n",
       "9995                   1              0  \n",
       "9996                   1              0  \n",
       "9997                   1              0  \n",
       "9998                   1              0  \n",
       "9999                   1              0  \n",
       "\n",
       "[10000 rows x 20 columns]"
      ]
     },
     "execution_count": 25,
     "metadata": {},
     "output_type": "execute_result"
    }
   ],
   "source": [
    "df"
   ]
  },
  {
   "cell_type": "markdown",
   "id": "1cf2ea57",
   "metadata": {},
   "source": [
    "#### AUGUST Month "
   ]
  },
  {
   "cell_type": "code",
   "execution_count": 141,
   "id": "afb35f2f",
   "metadata": {},
   "outputs": [
    {
     "data": {
      "text/plain": [
       "checkout_started_at_AUG\n",
       "0    9283\n",
       "1     717\n",
       "Name: target_column, dtype: int64"
      ]
     },
     "execution_count": 141,
     "metadata": {},
     "output_type": "execute_result"
    }
   ],
   "source": [
    "df_month_aug= df.groupby([\"checkout_started_at_AUG\"])['target_column'].count()\n",
    "df_month_aug.columns=['checkout_started_at_AUG', 'Not paid installments in all 4']\n",
    "df_month_aug"
   ]
  },
  {
   "cell_type": "code",
   "execution_count": 142,
   "id": "e0822fb3",
   "metadata": {},
   "outputs": [
    {
     "data": {
      "text/plain": [
       "Text(0.5, 1.0, 'Customer not paid installed on month of Aug')"
      ]
     },
     "execution_count": 142,
     "metadata": {},
     "output_type": "execute_result"
    },
    {
     "data": {
      "image/png": "[encoded data removed]",
      "text/plain": [
       "<Figure size 864x576 with 1 Axes>"
      ]
     },
     "metadata": {},
     "output_type": "display_data"
    }
   ],
   "source": [
    "df_month_aug.plot(x='checkout_started_at_AUG', y='Not paid installments in all 4', kind='barh')\n",
    "plt.xlabel('checkout_started_at_AUG',fontsize=20)\n",
    "plt.ylabel(' Not paid installments in all 4 ',fontsize=20)\n",
    "plt.title('Customer not paid installed on month of Aug',fontsize=20)"
   ]
  },
  {
   "cell_type": "markdown",
   "id": "1156221f",
   "metadata": {},
   "source": [
    "#### September Month "
   ]
  },
  {
   "cell_type": "code",
   "execution_count": 144,
   "id": "e1c064b0",
   "metadata": {},
   "outputs": [
    {
     "data": {
      "text/plain": [
       "checkout_started_at_SEP\n",
       "0    4328\n",
       "1    5672\n",
       "Name: target_column, dtype: int64"
      ]
     },
     "execution_count": 144,
     "metadata": {},
     "output_type": "execute_result"
    }
   ],
   "source": [
    "df_month_sep= df.groupby([\"checkout_started_at_SEP\"])['target_column'].count()\n",
    "df_month_sep.columns=['checkout_started_at_SEP', 'Not paid installments in all 4']\n",
    "df_month_sep"
   ]
  },
  {
   "cell_type": "code",
   "execution_count": 145,
   "id": "90ffe216",
   "metadata": {},
   "outputs": [
    {
     "data": {
      "text/plain": [
       "Text(0.5, 1.0, 'Customer not paid installed on month of Sep')"
      ]
     },
     "execution_count": 145,
     "metadata": {},
     "output_type": "execute_result"
    },
    {
     "data": {
      "image/png": "[encoded data removed]",
      "text/plain": [
       "<Figure size 864x576 with 1 Axes>"
      ]
     },
     "metadata": {},
     "output_type": "display_data"
    }
   ],
   "source": [
    "df_month_sep.plot(x='checkout_started_at_SEP', y='Not paid installments in all 4', kind='barh')\n",
    "plt.xlabel('checkout_started_at_SEP',fontsize=20)\n",
    "plt.ylabel(' Not paid installments in all 4 ',fontsize=20)\n",
    "plt.title('Customer not paid installed on month of Sep',fontsize=20)"
   ]
  },
  {
   "cell_type": "markdown",
   "id": "4108097d",
   "metadata": {},
   "source": [
    "#### October Month "
   ]
  },
  {
   "cell_type": "code",
   "execution_count": 146,
   "id": "c4fb7980",
   "metadata": {},
   "outputs": [
    {
     "data": {
      "text/plain": [
       "checkout_started_at_NOV\n",
       "0    6389\n",
       "1    3611\n",
       "Name: target_column, dtype: int64"
      ]
     },
     "execution_count": 146,
     "metadata": {},
     "output_type": "execute_result"
    }
   ],
   "source": [
    "df_month_oct= df.groupby([\"checkout_started_at_NOV\"])['target_column'].count()\n",
    "df_month_oct.columns=['checkout_started_at_NOV', 'Not paid installments in all 4']\n",
    "df_month_oct"
   ]
  },
  {
   "cell_type": "code",
   "execution_count": 147,
   "id": "6941b899",
   "metadata": {},
   "outputs": [
    {
     "data": {
      "text/plain": [
       "Text(0.5, 1.0, 'Customer not paid installed on month of Oct')"
      ]
     },
     "execution_count": 147,
     "metadata": {},
     "output_type": "execute_result"
    },
    {
     "data": {
      "image/png": "[encoded data removed]",
      "text/plain": [
       "<Figure size 864x576 with 1 Axes>"
      ]
     },
     "metadata": {},
     "output_type": "display_data"
    }
   ],
   "source": [
    "df_month_oct.plot(x='checkout_started_at_NOV', y='Not paid installments in all 4', kind='barh')\n",
    "plt.xlabel('checkout_started_at_OCT',fontsize=20)\n",
    "plt.ylabel(' Not paid installments in all 4 ',fontsize=20)\n",
    "plt.title('Customer not paid installed on month of Oct',fontsize=20)"
   ]
  },
  {
   "cell_type": "markdown",
   "id": "04372999",
   "metadata": {},
   "source": [
    "### this bar graph shows that in the month of September Customers are not payed the installments much"
   ]
  },
  {
   "cell_type": "code",
   "execution_count": 148,
   "id": "afc109f5",
   "metadata": {},
   "outputs": [],
   "source": [
    "# fill missing values as 'benefit of doubt' paid for our purposes\n",
    "filtered_orders = df\n",
    "\n",
    "\n",
    "filtered_orders['paid_installment_1'] = filtered_orders['paid_installment_1'].fillna(1.0)\n",
    "filtered_orders['paid_installment_3'] = filtered_orders['paid_installment_3'].fillna(1.0)\n",
    "\n"
   ]
  },
  {
   "cell_type": "code",
   "execution_count": 149,
   "id": "83d95479",
   "metadata": {},
   "outputs": [],
   "source": [
    "# add 'defaulted' column and make True if paid_installment_1-4 are Not Null and unpaid\n",
    "\n",
    "def label_defaulted(row):\n",
    "    res = False\n",
    "    for i in range(1,5):\n",
    "        # only take into account paid_installment_4 if it is not NaN\n",
    "        if row['paid_installment_{}'.format(i)] == 0.0:\n",
    "          res = True\n",
    "    return res"
   ]
  },
  {
   "cell_type": "code",
   "execution_count": 150,
   "id": "6c87aee5",
   "metadata": {},
   "outputs": [],
   "source": [
    "filtered_orders['defaulted'] = filtered_orders.apply(lambda row: label_defaulted(row), axis=1)"
   ]
  },
  {
   "cell_type": "code",
   "execution_count": 151,
   "id": "8115ed12",
   "metadata": {},
   "outputs": [
    {
     "name": "stderr",
     "output_type": "stream",
     "text": [
      "C:\\Users\\e3015558\\Anaconda3\\lib\\site-packages\\seaborn\\_decorators.py:36: FutureWarning: Pass the following variables as keyword args: x, y. From version 0.12, the only valid positional argument will be `data`, and passing other arguments without an explicit keyword will result in an error or misinterpretation.\n",
      "  warnings.warn(\n"
     ]
    },
    {
     "data": {
      "image/png": "[encoded data removed]",
      "text/plain": [
       "<Figure size 864x576 with 1 Axes>"
      ]
     },
     "metadata": {},
     "output_type": "display_data"
    },
    {
     "name": "stdout",
     "output_type": "stream",
     "text": [
      "C37828    1224\n",
      "E3FFE5     934\n",
      "6F498E     876\n",
      "26ECA2     627\n",
      "8D665E     565\n",
      "          ... \n",
      "E00757       1\n",
      "A99A2B       1\n",
      "983DD1       1\n",
      "1561AE       1\n",
      "B847CE       1\n",
      "Name: merchant_id, Length: 105, dtype: int64\n"
     ]
    }
   ],
   "source": [
    "merchant_count = filtered_orders['merchant_id'].value_counts()\n",
    "sns.set(style=\"darkgrid\")\n",
    "sns.barplot(merchant_count.index, merchant_count.values, alpha=0.9)\n",
    "plt.title('Frequency Distribution of Merchants')\n",
    "plt.ylabel('Occurrences', fontsize=12)\n",
    "plt.xlabel('Merchant', fontsize=12)\n",
    "plt.show()\n",
    "print(filtered_orders['merchant_id'].value_counts())"
   ]
  },
  {
   "cell_type": "code",
   "execution_count": 152,
   "id": "56dadd42",
   "metadata": {},
   "outputs": [
    {
     "name": "stdout",
     "output_type": "stream",
     "text": [
      "<class 'pandas.core.frame.DataFrame'>\n",
      "RangeIndex: 10000 entries, 0 to 9999\n",
      "Columns: 39017 entries, order_amount to 2018-10-14 23:56:29.583000\n",
      "dtypes: bool(1), float64(1), int64(14), uint8(39001)\n",
      "memory usage: 373.1 MB\n"
     ]
    }
   ],
   "source": [
    "## dummy vars for categoricals\n",
    "order_id = pd.get_dummies(filtered_orders['order_id'],drop_first=True)\n",
    "customer_id = pd.get_dummies(filtered_orders['customer_id'],drop_first=True)\n",
    "merchant_id = pd.get_dummies(filtered_orders['merchant_id'],drop_first=True)\n",
    "checkout = pd.get_dummies(filtered_orders['checkout_started_at'],drop_first=True)\n",
    "decision = pd.get_dummies(filtered_orders['credit_decision_started_at'],drop_first=True)\n",
    "filtered_orders.drop(['order_id', 'customer_id', 'merchant_id', 'checkout_started_at', 'credit_decision_started_at'],axis=1,inplace=True)\n",
    "filtered_orders = pd.concat([filtered_orders, order_id, customer_id, merchant_id, checkout, decision],axis=1)\n",
    "filtered_orders.info()"
   ]
  },
  {
   "cell_type": "code",
   "execution_count": null,
   "id": "9fa3670c",
   "metadata": {},
   "outputs": [],
   "source": [
    "#filtered_orders.to_csv(r'D:\\New_folder\\cleaned_orders2.csv',index=False)"
   ]
  },
  {
   "cell_type": "markdown",
   "id": "82a24d81",
   "metadata": {},
   "source": [
    "### Defaulted Percentage"
   ]
  },
  {
   "cell_type": "code",
   "execution_count": 153,
   "id": "a214de1d",
   "metadata": {},
   "outputs": [
    {
     "data": {
      "image/png": "[encoded data removed]",
      "text/plain": [
       "<Figure size 1008x504 with 2 Axes>"
      ]
     },
     "metadata": {},
     "output_type": "display_data"
    }
   ],
   "source": [
    "# Defaulted Percentage\n",
    "\n",
    "fig, axs = plt.subplots(1,2,figsize=(14,7))\n",
    "sns.countplot(x='defaulted', data=filtered_orders,ax=axs[0])\n",
    "axs[0].set_title(\"Frequency of Default\")\n",
    "filtered_orders.defaulted.value_counts().plot(x=None,y=None, kind='pie', ax=axs[1],autopct='%1.2f%%')\n",
    "axs[1].set_title(\"Defaulted Percentage\")\n",
    "plt.show()\n"
   ]
  },
  {
   "cell_type": "code",
   "execution_count": 154,
   "id": "363075ff",
   "metadata": {},
   "outputs": [
    {
     "data": {
      "image/png": "[encoded data removed]",
      "text/plain": [
       "<Figure size 864x504 with 1 Axes>"
      ]
     },
     "metadata": {},
     "output_type": "display_data"
    }
   ],
   "source": [
    "plt.figure(figsize=(12, 7))\n",
    "sns.boxplot(x='defaulted',y='order_amount',data=filtered_orders,palette='winter')\n",
    "plt.show()\n"
   ]
  },
  {
   "cell_type": "code",
   "execution_count": 155,
   "id": "f3fbd0dc",
   "metadata": {},
   "outputs": [
    {
     "data": {
      "text/html": [
       "<div>\n",
       "<style scoped>\n",
       "    .dataframe tbody tr th:only-of-type {\n",
       "        vertical-align: middle;\n",
       "    }\n",
       "\n",
       "    .dataframe tbody tr th {\n",
       "        vertical-align: top;\n",
       "    }\n",
       "\n",
       "    .dataframe thead th {\n",
       "        text-align: right;\n",
       "    }\n",
       "</style>\n",
       "<table border=\"1\" class=\"dataframe\">\n",
       "  <thead>\n",
       "    <tr style=\"text-align: right;\">\n",
       "      <th></th>\n",
       "      <th>order_amount</th>\n",
       "      <th>checkout_started_at_AUG</th>\n",
       "      <th>checkout_started_at_SEP</th>\n",
       "      <th>checkout_started_at_NOV</th>\n",
       "      <th>customer_credit_score</th>\n",
       "      <th>customer_age</th>\n",
       "      <th>Customer_age_LT20</th>\n",
       "      <th>Customer_age_BT21_40</th>\n",
       "      <th>Customer_age_BT41_60</th>\n",
       "      <th>Customer_age_GT60</th>\n",
       "      <th>paid_installment_1</th>\n",
       "      <th>paid_installment_2</th>\n",
       "      <th>paid_installment_3</th>\n",
       "      <th>paid_installment_4</th>\n",
       "      <th>target_column</th>\n",
       "      <th>defaulted</th>\n",
       "    </tr>\n",
       "  </thead>\n",
       "  <tbody>\n",
       "    <tr>\n",
       "      <th>0</th>\n",
       "      <td>147.20</td>\n",
       "      <td>0</td>\n",
       "      <td>0</td>\n",
       "      <td>1</td>\n",
       "      <td>626</td>\n",
       "      <td>26</td>\n",
       "      <td>0</td>\n",
       "      <td>1</td>\n",
       "      <td>0</td>\n",
       "      <td>0</td>\n",
       "      <td>1</td>\n",
       "      <td>1</td>\n",
       "      <td>1</td>\n",
       "      <td>1</td>\n",
       "      <td>1</td>\n",
       "      <td>False</td>\n",
       "    </tr>\n",
       "    <tr>\n",
       "      <th>1</th>\n",
       "      <td>69.95</td>\n",
       "      <td>0</td>\n",
       "      <td>1</td>\n",
       "      <td>0</td>\n",
       "      <td>603</td>\n",
       "      <td>20</td>\n",
       "      <td>1</td>\n",
       "      <td>0</td>\n",
       "      <td>0</td>\n",
       "      <td>0</td>\n",
       "      <td>1</td>\n",
       "      <td>1</td>\n",
       "      <td>1</td>\n",
       "      <td>1</td>\n",
       "      <td>1</td>\n",
       "      <td>False</td>\n",
       "    </tr>\n",
       "    <tr>\n",
       "      <th>2</th>\n",
       "      <td>45.00</td>\n",
       "      <td>0</td>\n",
       "      <td>1</td>\n",
       "      <td>0</td>\n",
       "      <td>648</td>\n",
       "      <td>41</td>\n",
       "      <td>0</td>\n",
       "      <td>0</td>\n",
       "      <td>1</td>\n",
       "      <td>0</td>\n",
       "      <td>1</td>\n",
       "      <td>1</td>\n",
       "      <td>1</td>\n",
       "      <td>1</td>\n",
       "      <td>1</td>\n",
       "      <td>False</td>\n",
       "    </tr>\n",
       "    <tr>\n",
       "      <th>3</th>\n",
       "      <td>164.00</td>\n",
       "      <td>0</td>\n",
       "      <td>0</td>\n",
       "      <td>1</td>\n",
       "      <td>625</td>\n",
       "      <td>33</td>\n",
       "      <td>0</td>\n",
       "      <td>1</td>\n",
       "      <td>0</td>\n",
       "      <td>0</td>\n",
       "      <td>1</td>\n",
       "      <td>1</td>\n",
       "      <td>1</td>\n",
       "      <td>1</td>\n",
       "      <td>1</td>\n",
       "      <td>False</td>\n",
       "    </tr>\n",
       "    <tr>\n",
       "      <th>4</th>\n",
       "      <td>69.17</td>\n",
       "      <td>0</td>\n",
       "      <td>1</td>\n",
       "      <td>0</td>\n",
       "      <td>438</td>\n",
       "      <td>18</td>\n",
       "      <td>1</td>\n",
       "      <td>0</td>\n",
       "      <td>0</td>\n",
       "      <td>0</td>\n",
       "      <td>1</td>\n",
       "      <td>1</td>\n",
       "      <td>1</td>\n",
       "      <td>1</td>\n",
       "      <td>1</td>\n",
       "      <td>False</td>\n",
       "    </tr>\n",
       "    <tr>\n",
       "      <th>...</th>\n",
       "      <td>...</td>\n",
       "      <td>...</td>\n",
       "      <td>...</td>\n",
       "      <td>...</td>\n",
       "      <td>...</td>\n",
       "      <td>...</td>\n",
       "      <td>...</td>\n",
       "      <td>...</td>\n",
       "      <td>...</td>\n",
       "      <td>...</td>\n",
       "      <td>...</td>\n",
       "      <td>...</td>\n",
       "      <td>...</td>\n",
       "      <td>...</td>\n",
       "      <td>...</td>\n",
       "      <td>...</td>\n",
       "    </tr>\n",
       "    <tr>\n",
       "      <th>9995</th>\n",
       "      <td>63.66</td>\n",
       "      <td>1</td>\n",
       "      <td>0</td>\n",
       "      <td>0</td>\n",
       "      <td>613</td>\n",
       "      <td>37</td>\n",
       "      <td>0</td>\n",
       "      <td>1</td>\n",
       "      <td>0</td>\n",
       "      <td>0</td>\n",
       "      <td>1</td>\n",
       "      <td>1</td>\n",
       "      <td>1</td>\n",
       "      <td>1</td>\n",
       "      <td>1</td>\n",
       "      <td>False</td>\n",
       "    </tr>\n",
       "    <tr>\n",
       "      <th>9996</th>\n",
       "      <td>83.89</td>\n",
       "      <td>0</td>\n",
       "      <td>1</td>\n",
       "      <td>0</td>\n",
       "      <td>771</td>\n",
       "      <td>34</td>\n",
       "      <td>0</td>\n",
       "      <td>1</td>\n",
       "      <td>0</td>\n",
       "      <td>0</td>\n",
       "      <td>1</td>\n",
       "      <td>1</td>\n",
       "      <td>1</td>\n",
       "      <td>1</td>\n",
       "      <td>1</td>\n",
       "      <td>False</td>\n",
       "    </tr>\n",
       "    <tr>\n",
       "      <th>9997</th>\n",
       "      <td>95.25</td>\n",
       "      <td>0</td>\n",
       "      <td>0</td>\n",
       "      <td>1</td>\n",
       "      <td>611</td>\n",
       "      <td>45</td>\n",
       "      <td>0</td>\n",
       "      <td>0</td>\n",
       "      <td>1</td>\n",
       "      <td>0</td>\n",
       "      <td>1</td>\n",
       "      <td>1</td>\n",
       "      <td>1</td>\n",
       "      <td>1</td>\n",
       "      <td>1</td>\n",
       "      <td>False</td>\n",
       "    </tr>\n",
       "    <tr>\n",
       "      <th>9998</th>\n",
       "      <td>79.95</td>\n",
       "      <td>0</td>\n",
       "      <td>1</td>\n",
       "      <td>0</td>\n",
       "      <td>611</td>\n",
       "      <td>18</td>\n",
       "      <td>1</td>\n",
       "      <td>0</td>\n",
       "      <td>0</td>\n",
       "      <td>0</td>\n",
       "      <td>1</td>\n",
       "      <td>1</td>\n",
       "      <td>1</td>\n",
       "      <td>1</td>\n",
       "      <td>1</td>\n",
       "      <td>False</td>\n",
       "    </tr>\n",
       "    <tr>\n",
       "      <th>9999</th>\n",
       "      <td>15.50</td>\n",
       "      <td>0</td>\n",
       "      <td>1</td>\n",
       "      <td>0</td>\n",
       "      <td>611</td>\n",
       "      <td>19</td>\n",
       "      <td>1</td>\n",
       "      <td>0</td>\n",
       "      <td>0</td>\n",
       "      <td>0</td>\n",
       "      <td>1</td>\n",
       "      <td>1</td>\n",
       "      <td>1</td>\n",
       "      <td>1</td>\n",
       "      <td>1</td>\n",
       "      <td>False</td>\n",
       "    </tr>\n",
       "  </tbody>\n",
       "</table>\n",
       "<p>10000 rows × 16 columns</p>\n",
       "</div>"
      ],
      "text/plain": [
       "      order_amount  checkout_started_at_AUG  checkout_started_at_SEP  \\\n",
       "0           147.20                        0                        0   \n",
       "1            69.95                        0                        1   \n",
       "2            45.00                        0                        1   \n",
       "3           164.00                        0                        0   \n",
       "4            69.17                        0                        1   \n",
       "...            ...                      ...                      ...   \n",
       "9995         63.66                        1                        0   \n",
       "9996         83.89                        0                        1   \n",
       "9997         95.25                        0                        0   \n",
       "9998         79.95                        0                        1   \n",
       "9999         15.50                        0                        1   \n",
       "\n",
       "      checkout_started_at_NOV  customer_credit_score  customer_age  \\\n",
       "0                           1                    626            26   \n",
       "1                           0                    603            20   \n",
       "2                           0                    648            41   \n",
       "3                           1                    625            33   \n",
       "4                           0                    438            18   \n",
       "...                       ...                    ...           ...   \n",
       "9995                        0                    613            37   \n",
       "9996                        0                    771            34   \n",
       "9997                        1                    611            45   \n",
       "9998                        0                    611            18   \n",
       "9999                        0                    611            19   \n",
       "\n",
       "      Customer_age_LT20  Customer_age_BT21_40  Customer_age_BT41_60  \\\n",
       "0                     0                     1                     0   \n",
       "1                     1                     0                     0   \n",
       "2                     0                     0                     1   \n",
       "3                     0                     1                     0   \n",
       "4                     1                     0                     0   \n",
       "...                 ...                   ...                   ...   \n",
       "9995                  0                     1                     0   \n",
       "9996                  0                     1                     0   \n",
       "9997                  0                     0                     1   \n",
       "9998                  1                     0                     0   \n",
       "9999                  1                     0                     0   \n",
       "\n",
       "      Customer_age_GT60  paid_installment_1  paid_installment_2  \\\n",
       "0                     0                   1                   1   \n",
       "1                     0                   1                   1   \n",
       "2                     0                   1                   1   \n",
       "3                     0                   1                   1   \n",
       "4                     0                   1                   1   \n",
       "...                 ...                 ...                 ...   \n",
       "9995                  0                   1                   1   \n",
       "9996                  0                   1                   1   \n",
       "9997                  0                   1                   1   \n",
       "9998                  0                   1                   1   \n",
       "9999                  0                   1                   1   \n",
       "\n",
       "      paid_installment_3  paid_installment_4  target_column  defaulted  \n",
       "0                      1                   1              1      False  \n",
       "1                      1                   1              1      False  \n",
       "2                      1                   1              1      False  \n",
       "3                      1                   1              1      False  \n",
       "4                      1                   1              1      False  \n",
       "...                  ...                 ...            ...        ...  \n",
       "9995                   1                   1              1      False  \n",
       "9996                   1                   1              1      False  \n",
       "9997                   1                   1              1      False  \n",
       "9998                   1                   1              1      False  \n",
       "9999                   1                   1              1      False  \n",
       "\n",
       "[10000 rows x 16 columns]"
      ]
     },
     "execution_count": 155,
     "metadata": {},
     "output_type": "execute_result"
    }
   ],
   "source": [
    "df"
   ]
  },
  {
   "cell_type": "markdown",
   "id": "b8e7e452",
   "metadata": {},
   "source": [
    "### Train and Test Split\n"
   ]
  },
  {
   "cell_type": "code",
   "execution_count": 156,
   "id": "ec131105",
   "metadata": {},
   "outputs": [],
   "source": [
    "#x = df.drop('Attrition', axis=1)\n",
    "x = df.drop(['defaulted'], axis=1)\n",
    "y = df['defaulted']\n",
    "\n",
    "\n",
    "# Splitting the data into train and test\n",
    "X_train,X_test,y_train,y_test=train_test_split(x, y, train_size=0.8, stratify = y, random_state=100)"
   ]
  },
  {
   "cell_type": "code",
   "execution_count": 157,
   "id": "fe639c4c",
   "metadata": {},
   "outputs": [
    {
     "data": {
      "text/plain": [
       "((8000,), (2000,))"
      ]
     },
     "execution_count": 157,
     "metadata": {},
     "output_type": "execute_result"
    }
   ],
   "source": [
    "y_train.shape, y_test.shape"
   ]
  },
  {
   "cell_type": "code",
   "execution_count": 158,
   "id": "f2e70830",
   "metadata": {},
   "outputs": [
    {
     "data": {
      "text/plain": [
       "False    0.930625\n",
       "True     0.069375\n",
       "Name: defaulted, dtype: float64"
      ]
     },
     "execution_count": 158,
     "metadata": {},
     "output_type": "execute_result"
    }
   ],
   "source": [
    "y_train.value_counts()/len(y_train)"
   ]
  },
  {
   "cell_type": "code",
   "execution_count": 159,
   "id": "a2ae2826",
   "metadata": {},
   "outputs": [
    {
     "data": {
      "text/plain": [
       "False    0.9305\n",
       "True     0.0695\n",
       "Name: defaulted, dtype: float64"
      ]
     },
     "execution_count": 159,
     "metadata": {},
     "output_type": "execute_result"
    }
   ],
   "source": [
    "y_test.value_counts()/len(y_test)"
   ]
  },
  {
   "cell_type": "code",
   "execution_count": 160,
   "id": "025816fe",
   "metadata": {},
   "outputs": [],
   "source": [
    "from sklearn.preprocessing import StandardScaler\n",
    "Scaler_X = StandardScaler()\n",
    "X_train = Scaler_X.fit_transform(X_train)\n",
    "X_test = Scaler_X.transform(X_test)"
   ]
  },
  {
   "cell_type": "markdown",
   "id": "8ac29f1c",
   "metadata": {},
   "source": [
    "## Handling class imbalance using SMOTE based techniques\n",
    "\n",
    "\n",
    "#### A) SMOTE Technique\n"
   ]
  },
  {
   "cell_type": "code",
   "execution_count": 161,
   "id": "a634519a",
   "metadata": {},
   "outputs": [
    {
     "name": "stdout",
     "output_type": "stream",
     "text": [
      "Before Counter({False: 7445, True: 555})\n",
      "After Counter({False: 7445, True: 7445})\n"
     ]
    }
   ],
   "source": [
    "from imblearn.over_sampling import SMOTE\n",
    "\n",
    "counter = Counter(y_train)\n",
    "print('Before',counter)\n",
    "\n",
    "# oversampling the train dataset using SMOTE\n",
    "smt = SMOTE()\n",
    "\n",
    "#X_train, y_train = smt.fit_resample(X_train, y_train)\n",
    "X_train_sm, y_train_sm = smt.fit_resample(X_train, y_train)\n",
    "\n",
    "\n",
    "counter = Counter(y_train_sm)\n",
    "print('After',counter)"
   ]
  },
  {
   "cell_type": "markdown",
   "id": "da69e088",
   "metadata": {},
   "source": [
    "#### B) ADASYN Technique"
   ]
  },
  {
   "cell_type": "code",
   "execution_count": 162,
   "id": "3b97256e",
   "metadata": {},
   "outputs": [
    {
     "name": "stdout",
     "output_type": "stream",
     "text": [
      "Before Counter({False: 7445, True: 555})\n"
     ]
    },
    {
     "ename": "RuntimeError",
     "evalue": "Not any neigbours belong to the majority class. This case will induce a NaN case with a division by zero. ADASYN is not suited for this specific dataset. Use SMOTE instead.",
     "output_type": "error",
     "traceback": [
      "\u001b[1;31m---------------------------------------------------------------------------\u001b[0m",
      "\u001b[1;31mRuntimeError\u001b[0m                              Traceback (most recent call last)",
      "\u001b[1;32m<ipython-input-162-d9b8653cf15c>\u001b[0m in \u001b[0;36m<module>\u001b[1;34m\u001b[0m\n\u001b[0;32m      5\u001b[0m \u001b[1;31m# oversampling the train dataset using ADASYN\u001b[0m\u001b[1;33m\u001b[0m\u001b[1;33m\u001b[0m\u001b[1;33m\u001b[0m\u001b[0m\n\u001b[0;32m      6\u001b[0m \u001b[0mada\u001b[0m \u001b[1;33m=\u001b[0m \u001b[0mADASYN\u001b[0m\u001b[1;33m(\u001b[0m\u001b[0mrandom_state\u001b[0m\u001b[1;33m=\u001b[0m\u001b[1;36m130\u001b[0m\u001b[1;33m)\u001b[0m\u001b[1;33m\u001b[0m\u001b[1;33m\u001b[0m\u001b[0m\n\u001b[1;32m----> 7\u001b[1;33m \u001b[0mX_train_ada\u001b[0m\u001b[1;33m,\u001b[0m \u001b[0my_train_ada\u001b[0m \u001b[1;33m=\u001b[0m \u001b[0mada\u001b[0m\u001b[1;33m.\u001b[0m\u001b[0mfit_resample\u001b[0m\u001b[1;33m(\u001b[0m\u001b[0mX_train\u001b[0m\u001b[1;33m,\u001b[0m \u001b[0my_train\u001b[0m\u001b[1;33m)\u001b[0m\u001b[1;33m\u001b[0m\u001b[1;33m\u001b[0m\u001b[0m\n\u001b[0m\u001b[0;32m      8\u001b[0m \u001b[1;33m\u001b[0m\u001b[0m\n\u001b[0;32m      9\u001b[0m \u001b[0mcounter\u001b[0m \u001b[1;33m=\u001b[0m \u001b[0mCounter\u001b[0m\u001b[1;33m(\u001b[0m\u001b[0my_train_ada\u001b[0m\u001b[1;33m)\u001b[0m\u001b[1;33m\u001b[0m\u001b[1;33m\u001b[0m\u001b[0m\n",
      "\u001b[1;32m~\\Anaconda3\\lib\\site-packages\\imblearn\\base.py\u001b[0m in \u001b[0;36mfit_resample\u001b[1;34m(self, X, y)\u001b[0m\n\u001b[0;32m     81\u001b[0m         )\n\u001b[0;32m     82\u001b[0m \u001b[1;33m\u001b[0m\u001b[0m\n\u001b[1;32m---> 83\u001b[1;33m         \u001b[0moutput\u001b[0m \u001b[1;33m=\u001b[0m \u001b[0mself\u001b[0m\u001b[1;33m.\u001b[0m\u001b[0m_fit_resample\u001b[0m\u001b[1;33m(\u001b[0m\u001b[0mX\u001b[0m\u001b[1;33m,\u001b[0m \u001b[0my\u001b[0m\u001b[1;33m)\u001b[0m\u001b[1;33m\u001b[0m\u001b[1;33m\u001b[0m\u001b[0m\n\u001b[0m\u001b[0;32m     84\u001b[0m \u001b[1;33m\u001b[0m\u001b[0m\n\u001b[0;32m     85\u001b[0m         y_ = (\n",
      "\u001b[1;32m~\\Anaconda3\\lib\\site-packages\\imblearn\\over_sampling\\_adasyn.py\u001b[0m in \u001b[0;36m_fit_resample\u001b[1;34m(self, X, y)\u001b[0m\n\u001b[0;32m    133\u001b[0m             \u001b[0mratio_nn\u001b[0m \u001b[1;33m=\u001b[0m \u001b[0mnp\u001b[0m\u001b[1;33m.\u001b[0m\u001b[0msum\u001b[0m\u001b[1;33m(\u001b[0m\u001b[0my\u001b[0m\u001b[1;33m[\u001b[0m\u001b[0mnns\u001b[0m\u001b[1;33m]\u001b[0m \u001b[1;33m!=\u001b[0m \u001b[0mclass_sample\u001b[0m\u001b[1;33m,\u001b[0m \u001b[0maxis\u001b[0m\u001b[1;33m=\u001b[0m\u001b[1;36m1\u001b[0m\u001b[1;33m)\u001b[0m \u001b[1;33m/\u001b[0m \u001b[0mn_neighbors\u001b[0m\u001b[1;33m\u001b[0m\u001b[1;33m\u001b[0m\u001b[0m\n\u001b[0;32m    134\u001b[0m             \u001b[1;32mif\u001b[0m \u001b[1;32mnot\u001b[0m \u001b[0mnp\u001b[0m\u001b[1;33m.\u001b[0m\u001b[0msum\u001b[0m\u001b[1;33m(\u001b[0m\u001b[0mratio_nn\u001b[0m\u001b[1;33m)\u001b[0m\u001b[1;33m:\u001b[0m\u001b[1;33m\u001b[0m\u001b[1;33m\u001b[0m\u001b[0m\n\u001b[1;32m--> 135\u001b[1;33m                 raise RuntimeError(\n\u001b[0m\u001b[0;32m    136\u001b[0m                     \u001b[1;34m\"Not any neigbours belong to the majority\"\u001b[0m\u001b[1;33m\u001b[0m\u001b[1;33m\u001b[0m\u001b[0m\n\u001b[0;32m    137\u001b[0m                     \u001b[1;34m\" class. This case will induce a NaN case\"\u001b[0m\u001b[1;33m\u001b[0m\u001b[1;33m\u001b[0m\u001b[0m\n",
      "\u001b[1;31mRuntimeError\u001b[0m: Not any neigbours belong to the majority class. This case will induce a NaN case with a division by zero. ADASYN is not suited for this specific dataset. Use SMOTE instead."
     ]
    }
   ],
   "source": [
    "from imblearn.over_sampling import ADASYN\n",
    "\n",
    "counter = Counter(y_train)\n",
    "print('Before',counter)\n",
    "# oversampling the train dataset using ADASYN\n",
    "ada = ADASYN(random_state=130)\n",
    "X_train_ada, y_train_ada = ada.fit_resample(X_train, y_train)\n",
    "\n",
    "counter = Counter(y_train_ada)\n",
    "print('After',counter)"
   ]
  },
  {
   "cell_type": "markdown",
   "id": "8c5e3dc1",
   "metadata": {},
   "source": [
    "#### ADASYN is not suited for this specific dataset. so we are ignoring ADASYN "
   ]
  },
  {
   "cell_type": "markdown",
   "id": "d25adc71",
   "metadata": {},
   "source": [
    "#### C) Hybrid Techniques\n",
    "\n",
    "C.1) SMOTE + Tomek Links"
   ]
  },
  {
   "cell_type": "code",
   "execution_count": 163,
   "id": "1338a321",
   "metadata": {},
   "outputs": [
    {
     "name": "stdout",
     "output_type": "stream",
     "text": [
      "Before Counter({False: 7445, True: 555})\n",
      "After Counter({False: 7445, True: 7445})\n"
     ]
    }
   ],
   "source": [
    "from imblearn.combine import SMOTETomek\n",
    "\n",
    "counter = Counter(y_train)\n",
    "print('Before',counter)\n",
    "# oversampling the train dataset using SMOTE + Tomek\n",
    "smtom = SMOTETomek(random_state=139)\n",
    "X_train_smtom, y_train_smtom = smtom.fit_resample(X_train, y_train)\n",
    "\n",
    "counter = Counter(y_train_smtom)\n",
    "print('After',counter)"
   ]
  },
  {
   "cell_type": "markdown",
   "id": "ac25b70f",
   "metadata": {},
   "source": [
    "#### C.2) SMOTE + ENN"
   ]
  },
  {
   "cell_type": "code",
   "execution_count": 164,
   "id": "57cebf3d",
   "metadata": {},
   "outputs": [
    {
     "name": "stdout",
     "output_type": "stream",
     "text": [
      "Before Counter({False: 7445, True: 555})\n",
      "After Counter({False: 7445, True: 7445})\n"
     ]
    }
   ],
   "source": [
    "from imblearn.combine import SMOTEENN\n",
    "\n",
    "counter = Counter(y_train)\n",
    "print('Before',counter)\n",
    "# oversampling the train dataset using SMOTE + ENN\n",
    "smenn = SMOTEENN()\n",
    "X_train_smenn, y_train_smenn = smenn.fit_resample(X_train, y_train)\n",
    "\n",
    "counter = Counter(y_train_smenn)\n",
    "print('After',counter)"
   ]
  },
  {
   "cell_type": "markdown",
   "id": "1e038b53",
   "metadata": {},
   "source": [
    "### Model Building - Imbalanced data"
   ]
  },
  {
   "cell_type": "code",
   "execution_count": 165,
   "id": "ac226819",
   "metadata": {},
   "outputs": [],
   "source": [
    "model = list()\n",
    "resample = list()\n",
    "precision = list()\n",
    "recall = list()\n",
    "F1score = list()\n",
    "AUCROC = list()"
   ]
  },
  {
   "cell_type": "code",
   "execution_count": 166,
   "id": "efa65107",
   "metadata": {},
   "outputs": [],
   "source": [
    "\n",
    "def test_eval(clf_model, X_test, y_test, algo=None, sampling=None):\n",
    "    # Test set prediction\n",
    "    y_prob=clf_model.predict_proba(X_test)\n",
    "    y_pred=clf_model.predict(X_test)\n",
    "\n",
    "    print('Confusion Matrix')\n",
    "    print('='*60)\n",
    "    print(confusion_matrix(y_test,y_pred),\"\\n\")\n",
    "    print('Classification Report')\n",
    "    print('='*60)\n",
    "    print(classification_report(y_test,y_pred),\"\\n\")\n",
    "    print('AUC-ROC')\n",
    "    print('='*60)\n",
    "    print(roc_auc_score(y_test, y_prob[:,1]))\n",
    "          \n",
    "    model.append(algo)\n",
    "    precision.append(precision_score(y_test,y_pred))\n",
    "    recall.append(recall_score(y_test,y_pred))\n",
    "    F1score.append(f1_score(y_test,y_pred))\n",
    "    AUCROC.append(roc_auc_score(y_test, y_prob[:,1]))\n",
    "    resample.append(sampling)"
   ]
  },
  {
   "cell_type": "markdown",
   "id": "eabb82a0",
   "metadata": {},
   "source": [
    "## Model-1: Logistic Regression"
   ]
  },
  {
   "cell_type": "code",
   "execution_count": 167,
   "id": "e265a6f5",
   "metadata": {},
   "outputs": [
    {
     "name": "stderr",
     "output_type": "stream",
     "text": [
      "C:\\Users\\e3015558\\Anaconda3\\lib\\site-packages\\sklearn\\model_selection\\_search.py:918: UserWarning: One or more of the test scores are non-finite: [nan  1. nan  1. nan  1. nan  1. nan  1. nan  1. nan  1. nan  1. nan  1.\n",
      " nan  1. nan  1. nan  1. nan  1. nan  1. nan  1. nan  1. nan  1. nan  1.\n",
      " nan  1. nan  1. nan  1. nan  1. nan  1. nan  1. nan  1. nan  1. nan  1.\n",
      " nan  1. nan  1. nan  1.]\n",
      "  warnings.warn(\n"
     ]
    },
    {
     "data": {
      "text/plain": [
       "LogisticRegression(C=1e-10)"
      ]
     },
     "execution_count": 167,
     "metadata": {},
     "output_type": "execute_result"
    }
   ],
   "source": [
    "log_model=LogisticRegression()\n",
    "\n",
    "params={'C':np.logspace(-10, 1, 15),'class_weight':[None,'balanced'],'penalty':['l1','l2']}\n",
    "\n",
    "cv = StratifiedKFold(n_splits=5, random_state=100, shuffle=True)\n",
    "\n",
    "# Create grid search using 5-fold cross validation\n",
    "clf_LR = GridSearchCV(log_model, params, cv=cv, scoring='roc_auc', n_jobs=-1)\n",
    "clf_LR.fit(X_train, y_train)\n",
    "clf_LR.best_estimator_"
   ]
  },
  {
   "cell_type": "code",
   "execution_count": 168,
   "id": "72364de7",
   "metadata": {},
   "outputs": [
    {
     "name": "stdout",
     "output_type": "stream",
     "text": [
      "Confusion Matrix\n",
      "============================================================\n",
      "[[1861    0]\n",
      " [ 139    0]] \n",
      "\n",
      "Classification Report\n",
      "============================================================\n",
      "              precision    recall  f1-score   support\n",
      "\n",
      "       False       0.93      1.00      0.96      1861\n",
      "        True       0.00      0.00      0.00       139\n",
      "\n",
      "    accuracy                           0.93      2000\n",
      "   macro avg       0.47      0.50      0.48      2000\n",
      "weighted avg       0.87      0.93      0.90      2000\n",
      " \n",
      "\n",
      "AUC-ROC\n",
      "============================================================\n",
      "1.0\n"
     ]
    },
    {
     "name": "stderr",
     "output_type": "stream",
     "text": [
      "C:\\Users\\e3015558\\Anaconda3\\lib\\site-packages\\sklearn\\metrics\\_classification.py:1245: UndefinedMetricWarning: Precision and F-score are ill-defined and being set to 0.0 in labels with no predicted samples. Use `zero_division` parameter to control this behavior.\n",
      "  _warn_prf(average, modifier, msg_start, len(result))\n",
      "C:\\Users\\e3015558\\Anaconda3\\lib\\site-packages\\sklearn\\metrics\\_classification.py:1245: UndefinedMetricWarning: Precision and F-score are ill-defined and being set to 0.0 in labels with no predicted samples. Use `zero_division` parameter to control this behavior.\n",
      "  _warn_prf(average, modifier, msg_start, len(result))\n",
      "C:\\Users\\e3015558\\Anaconda3\\lib\\site-packages\\sklearn\\metrics\\_classification.py:1245: UndefinedMetricWarning: Precision and F-score are ill-defined and being set to 0.0 in labels with no predicted samples. Use `zero_division` parameter to control this behavior.\n",
      "  _warn_prf(average, modifier, msg_start, len(result))\n",
      "C:\\Users\\e3015558\\Anaconda3\\lib\\site-packages\\sklearn\\metrics\\_classification.py:1245: UndefinedMetricWarning: Precision is ill-defined and being set to 0.0 due to no predicted samples. Use `zero_division` parameter to control this behavior.\n",
      "  _warn_prf(average, modifier, msg_start, len(result))\n"
     ]
    }
   ],
   "source": [
    "test_eval(clf_LR, X_test, y_test, 'Logistic Regression', 'actual')\n"
   ]
  },
  {
   "cell_type": "markdown",
   "id": "3fb47e67",
   "metadata": {},
   "source": [
    "#### 2.SMOTE Resampling"
   ]
  },
  {
   "cell_type": "code",
   "execution_count": 169,
   "id": "e9025756",
   "metadata": {},
   "outputs": [
    {
     "name": "stderr",
     "output_type": "stream",
     "text": [
      "C:\\Users\\e3015558\\Anaconda3\\lib\\site-packages\\sklearn\\model_selection\\_search.py:918: UserWarning: One or more of the test scores are non-finite: [nan  1. nan  1. nan  1. nan  1. nan  1. nan  1. nan  1. nan  1. nan  1.\n",
      " nan  1. nan  1. nan  1. nan  1. nan  1. nan  1. nan  1. nan  1. nan  1.\n",
      " nan  1. nan  1. nan  1. nan  1. nan  1. nan  1. nan  1. nan  1. nan  1.\n",
      " nan  1. nan  1. nan  1.]\n",
      "  warnings.warn(\n"
     ]
    },
    {
     "data": {
      "text/plain": [
       "LogisticRegression(C=1e-10)"
      ]
     },
     "execution_count": 169,
     "metadata": {},
     "output_type": "execute_result"
    }
   ],
   "source": [
    "clf_LR.fit(X_train_sm, y_train_sm)\n",
    "clf_LR.best_estimator_"
   ]
  },
  {
   "cell_type": "code",
   "execution_count": 170,
   "id": "80a2202c",
   "metadata": {},
   "outputs": [
    {
     "name": "stdout",
     "output_type": "stream",
     "text": [
      "Confusion Matrix\n",
      "============================================================\n",
      "[[1853    8]\n",
      " [   0  139]] \n",
      "\n",
      "Classification Report\n",
      "============================================================\n",
      "              precision    recall  f1-score   support\n",
      "\n",
      "       False       1.00      1.00      1.00      1861\n",
      "        True       0.95      1.00      0.97       139\n",
      "\n",
      "    accuracy                           1.00      2000\n",
      "   macro avg       0.97      1.00      0.98      2000\n",
      "weighted avg       1.00      1.00      1.00      2000\n",
      " \n",
      "\n",
      "AUC-ROC\n",
      "============================================================\n",
      "1.0\n"
     ]
    }
   ],
   "source": [
    "test_eval(clf_LR, X_test, y_test, 'Logistic Regression', 'smote')\n"
   ]
  },
  {
   "cell_type": "markdown",
   "id": "cfadc6e0",
   "metadata": {},
   "source": [
    "#### 3.ADASYN Resampling"
   ]
  },
  {
   "cell_type": "code",
   "execution_count": 64,
   "id": "aeaf79df",
   "metadata": {},
   "outputs": [],
   "source": [
    "# clf_LR.fit(X_train_ada, y_train_ada)\n",
    "# clf_LR.best_estimator_"
   ]
  },
  {
   "cell_type": "code",
   "execution_count": 65,
   "id": "68f8939d",
   "metadata": {},
   "outputs": [
    {
     "name": "stdout",
     "output_type": "stream",
     "text": [
      "Confusion Matrix\n",
      "============================================================\n",
      "[[1853    8]\n",
      " [   0  139]] \n",
      "\n",
      "Classification Report\n",
      "============================================================\n",
      "              precision    recall  f1-score   support\n",
      "\n",
      "       False       1.00      1.00      1.00      1861\n",
      "        True       0.95      1.00      0.97       139\n",
      "\n",
      "    accuracy                           1.00      2000\n",
      "   macro avg       0.97      1.00      0.98      2000\n",
      "weighted avg       1.00      1.00      1.00      2000\n",
      " \n",
      "\n",
      "AUC-ROC\n",
      "============================================================\n",
      "1.0\n"
     ]
    }
   ],
   "source": [
    "test_eval(clf_LR, X_test, y_test, 'Logistic Regression', 'adasyn')\n"
   ]
  },
  {
   "cell_type": "markdown",
   "id": "ca874442",
   "metadata": {},
   "source": [
    "#### 4.SMOTE + Tomek Resampling\n",
    "\n"
   ]
  },
  {
   "cell_type": "code",
   "execution_count": 171,
   "id": "46b82b1e",
   "metadata": {},
   "outputs": [
    {
     "name": "stderr",
     "output_type": "stream",
     "text": [
      "C:\\Users\\e3015558\\Anaconda3\\lib\\site-packages\\sklearn\\model_selection\\_search.py:918: UserWarning: One or more of the test scores are non-finite: [nan  1. nan  1. nan  1. nan  1. nan  1. nan  1. nan  1. nan  1. nan  1.\n",
      " nan  1. nan  1. nan  1. nan  1. nan  1. nan  1. nan  1. nan  1. nan  1.\n",
      " nan  1. nan  1. nan  1. nan  1. nan  1. nan  1. nan  1. nan  1. nan  1.\n",
      " nan  1. nan  1. nan  1.]\n",
      "  warnings.warn(\n"
     ]
    },
    {
     "data": {
      "text/plain": [
       "LogisticRegression(C=1e-10)"
      ]
     },
     "execution_count": 171,
     "metadata": {},
     "output_type": "execute_result"
    }
   ],
   "source": [
    "clf_LR.fit(X_train_smtom, y_train_smtom)\n",
    "clf_LR.best_estimator_"
   ]
  },
  {
   "cell_type": "code",
   "execution_count": 172,
   "id": "85d6c89d",
   "metadata": {},
   "outputs": [
    {
     "name": "stdout",
     "output_type": "stream",
     "text": [
      "Confusion Matrix\n",
      "============================================================\n",
      "[[1853    8]\n",
      " [   0  139]] \n",
      "\n",
      "Classification Report\n",
      "============================================================\n",
      "              precision    recall  f1-score   support\n",
      "\n",
      "       False       1.00      1.00      1.00      1861\n",
      "        True       0.95      1.00      0.97       139\n",
      "\n",
      "    accuracy                           1.00      2000\n",
      "   macro avg       0.97      1.00      0.98      2000\n",
      "weighted avg       1.00      1.00      1.00      2000\n",
      " \n",
      "\n",
      "AUC-ROC\n",
      "============================================================\n",
      "1.0\n"
     ]
    }
   ],
   "source": [
    "test_eval(clf_LR, X_test, y_test, 'Logistic Regression', 'smote+tomek')\n"
   ]
  },
  {
   "cell_type": "markdown",
   "id": "7e907664",
   "metadata": {},
   "source": [
    "#### 5.SMOTE + ENN Resampling"
   ]
  },
  {
   "cell_type": "code",
   "execution_count": 173,
   "id": "3f9ea8f6",
   "metadata": {},
   "outputs": [
    {
     "name": "stderr",
     "output_type": "stream",
     "text": [
      "C:\\Users\\e3015558\\Anaconda3\\lib\\site-packages\\sklearn\\model_selection\\_search.py:918: UserWarning: One or more of the test scores are non-finite: [nan  1. nan  1. nan  1. nan  1. nan  1. nan  1. nan  1. nan  1. nan  1.\n",
      " nan  1. nan  1. nan  1. nan  1. nan  1. nan  1. nan  1. nan  1. nan  1.\n",
      " nan  1. nan  1. nan  1. nan  1. nan  1. nan  1. nan  1. nan  1. nan  1.\n",
      " nan  1. nan  1. nan  1.]\n",
      "  warnings.warn(\n"
     ]
    },
    {
     "data": {
      "text/plain": [
       "LogisticRegression(C=1e-10)"
      ]
     },
     "execution_count": 173,
     "metadata": {},
     "output_type": "execute_result"
    }
   ],
   "source": [
    "clf_LR.fit(X_train_smenn, y_train_smenn)\n",
    "clf_LR.best_estimator_"
   ]
  },
  {
   "cell_type": "code",
   "execution_count": 174,
   "id": "7d26d4fd",
   "metadata": {},
   "outputs": [
    {
     "name": "stdout",
     "output_type": "stream",
     "text": [
      "Confusion Matrix\n",
      "============================================================\n",
      "[[1853    8]\n",
      " [   0  139]] \n",
      "\n",
      "Classification Report\n",
      "============================================================\n",
      "              precision    recall  f1-score   support\n",
      "\n",
      "       False       1.00      1.00      1.00      1861\n",
      "        True       0.95      1.00      0.97       139\n",
      "\n",
      "    accuracy                           1.00      2000\n",
      "   macro avg       0.97      1.00      0.98      2000\n",
      "weighted avg       1.00      1.00      1.00      2000\n",
      " \n",
      "\n",
      "AUC-ROC\n",
      "============================================================\n",
      "1.0\n"
     ]
    }
   ],
   "source": [
    "test_eval(clf_LR, X_test, y_test, 'Logistic Regression', 'smote+enn')\n"
   ]
  },
  {
   "cell_type": "markdown",
   "id": "9ae72cca",
   "metadata": {},
   "source": [
    "## Model-2: Decision Tree"
   ]
  },
  {
   "cell_type": "code",
   "execution_count": 175,
   "id": "05a41c2e",
   "metadata": {},
   "outputs": [],
   "source": [
    "estimators = [2,10,30,50,100]\n",
    "# Maximum number of depth in each tree:\n",
    "max_depth = [i for i in range(5,16,2)]\n",
    "# Minimum number of samples to consider to split a node:\n",
    "min_samples_split = [2, 5, 10, 15, 20, 50, 100]\n",
    "# Minimum number of samples to consider at each leaf node:\n",
    "min_samples_leaf = [1, 2, 5]"
   ]
  },
  {
   "cell_type": "markdown",
   "id": "0fda26ee",
   "metadata": {},
   "source": [
    "### 1. Original Unsampled Data"
   ]
  },
  {
   "cell_type": "code",
   "execution_count": 176,
   "id": "e9eec8fb",
   "metadata": {},
   "outputs": [
    {
     "name": "stdout",
     "output_type": "stream",
     "text": [
      "Fitting 5 folds for each of 10 candidates, totalling 50 fits\n"
     ]
    },
    {
     "data": {
      "text/plain": [
       "DecisionTreeClassifier(max_depth=9)"
      ]
     },
     "execution_count": 176,
     "metadata": {},
     "output_type": "execute_result"
    }
   ],
   "source": [
    "tree_model = DecisionTreeClassifier()\n",
    "\n",
    "tree_param_grid = { \n",
    "    'max_depth': max_depth,\n",
    "    'min_samples_split': min_samples_split,\n",
    "    'min_samples_leaf': min_samples_leaf\n",
    "}\n",
    "\n",
    "clf_DT = RandomizedSearchCV(tree_model, tree_param_grid, cv=cv, scoring='roc_auc', n_jobs=-1, verbose=2)\n",
    "clf_DT.fit(X_train, y_train)\n",
    "clf_DT.best_estimator_"
   ]
  },
  {
   "cell_type": "code",
   "execution_count": 177,
   "id": "a65e8713",
   "metadata": {},
   "outputs": [
    {
     "name": "stdout",
     "output_type": "stream",
     "text": [
      "Confusion Matrix\n",
      "============================================================\n",
      "[[1861    0]\n",
      " [   0  139]] \n",
      "\n",
      "Classification Report\n",
      "============================================================\n",
      "              precision    recall  f1-score   support\n",
      "\n",
      "       False       1.00      1.00      1.00      1861\n",
      "        True       1.00      1.00      1.00       139\n",
      "\n",
      "    accuracy                           1.00      2000\n",
      "   macro avg       1.00      1.00      1.00      2000\n",
      "weighted avg       1.00      1.00      1.00      2000\n",
      " \n",
      "\n",
      "AUC-ROC\n",
      "============================================================\n",
      "1.0\n"
     ]
    }
   ],
   "source": [
    "test_eval(clf_DT, X_test, y_test, 'Decision Tree', 'actual')\n"
   ]
  },
  {
   "cell_type": "code",
   "execution_count": 178,
   "id": "0a064efc",
   "metadata": {},
   "outputs": [
    {
     "name": "stdout",
     "output_type": "stream",
     "text": [
      "Confusion Matrix\n",
      "============================================================\n",
      "[[1861    0]\n",
      " [   0  139]] \n",
      "\n",
      "Classification Report\n",
      "============================================================\n",
      "              precision    recall  f1-score   support\n",
      "\n",
      "       False       1.00      1.00      1.00      1861\n",
      "        True       1.00      1.00      1.00       139\n",
      "\n",
      "    accuracy                           1.00      2000\n",
      "   macro avg       1.00      1.00      1.00      2000\n",
      "weighted avg       1.00      1.00      1.00      2000\n",
      " \n",
      "\n",
      "AUC-ROC\n",
      "============================================================\n",
      "1.0\n"
     ]
    }
   ],
   "source": [
    "test_eval(clf_DT, X_test, y_test, 'Decision Tree', 'actual')\n"
   ]
  },
  {
   "cell_type": "markdown",
   "id": "565fbf31",
   "metadata": {},
   "source": [
    "### 2.SMOTE Resampling"
   ]
  },
  {
   "cell_type": "code",
   "execution_count": 179,
   "id": "eb46b72f",
   "metadata": {},
   "outputs": [
    {
     "name": "stdout",
     "output_type": "stream",
     "text": [
      "Fitting 5 folds for each of 10 candidates, totalling 50 fits\n"
     ]
    },
    {
     "data": {
      "text/plain": [
       "DecisionTreeClassifier(max_depth=7, min_samples_leaf=2)"
      ]
     },
     "execution_count": 179,
     "metadata": {},
     "output_type": "execute_result"
    }
   ],
   "source": [
    "clf_DT.fit(X_train_sm, y_train_sm)\n",
    "clf_DT.best_estimator_"
   ]
  },
  {
   "cell_type": "code",
   "execution_count": 180,
   "id": "544108cb",
   "metadata": {},
   "outputs": [
    {
     "name": "stdout",
     "output_type": "stream",
     "text": [
      "Confusion Matrix\n",
      "============================================================\n",
      "[[1861    0]\n",
      " [   0  139]] \n",
      "\n",
      "Classification Report\n",
      "============================================================\n",
      "              precision    recall  f1-score   support\n",
      "\n",
      "       False       1.00      1.00      1.00      1861\n",
      "        True       1.00      1.00      1.00       139\n",
      "\n",
      "    accuracy                           1.00      2000\n",
      "   macro avg       1.00      1.00      1.00      2000\n",
      "weighted avg       1.00      1.00      1.00      2000\n",
      " \n",
      "\n",
      "AUC-ROC\n",
      "============================================================\n",
      "1.0\n"
     ]
    }
   ],
   "source": [
    "test_eval(clf_DT, X_test, y_test, 'Decision Tree', 'smote')\n"
   ]
  },
  {
   "cell_type": "code",
   "execution_count": null,
   "id": "2ae02412",
   "metadata": {},
   "outputs": [],
   "source": [
    "## 3.ADASYN Resampling\n",
    "\n",
    "# clf_DT.fit(X_train_ada, y_train_ada)\n",
    "# clf_DT.best_estimator_"
   ]
  },
  {
   "cell_type": "markdown",
   "id": "6e4968b2",
   "metadata": {},
   "source": [
    "### 4. SMOTE + Tomek Resampling\n"
   ]
  },
  {
   "cell_type": "code",
   "execution_count": 181,
   "id": "7e9a6075",
   "metadata": {},
   "outputs": [
    {
     "name": "stdout",
     "output_type": "stream",
     "text": [
      "Fitting 5 folds for each of 10 candidates, totalling 50 fits\n"
     ]
    },
    {
     "data": {
      "text/plain": [
       "DecisionTreeClassifier(max_depth=7)"
      ]
     },
     "execution_count": 181,
     "metadata": {},
     "output_type": "execute_result"
    }
   ],
   "source": [
    "clf_DT.fit(X_train_smtom, y_train_smtom)\n",
    "clf_DT.best_estimator_"
   ]
  },
  {
   "cell_type": "code",
   "execution_count": 182,
   "id": "8565cdf7",
   "metadata": {},
   "outputs": [
    {
     "name": "stdout",
     "output_type": "stream",
     "text": [
      "Confusion Matrix\n",
      "============================================================\n",
      "[[1861    0]\n",
      " [   0  139]] \n",
      "\n",
      "Classification Report\n",
      "============================================================\n",
      "              precision    recall  f1-score   support\n",
      "\n",
      "       False       1.00      1.00      1.00      1861\n",
      "        True       1.00      1.00      1.00       139\n",
      "\n",
      "    accuracy                           1.00      2000\n",
      "   macro avg       1.00      1.00      1.00      2000\n",
      "weighted avg       1.00      1.00      1.00      2000\n",
      " \n",
      "\n",
      "AUC-ROC\n",
      "============================================================\n",
      "1.0\n"
     ]
    }
   ],
   "source": [
    "test_eval(clf_DT, X_test, y_test, 'Decision Tree', 'smote+tomek')\n"
   ]
  },
  {
   "cell_type": "markdown",
   "id": "409b86de",
   "metadata": {},
   "source": [
    "### 5.SMOTE + ENN Resampling"
   ]
  },
  {
   "cell_type": "code",
   "execution_count": 183,
   "id": "7f35c4e9",
   "metadata": {},
   "outputs": [
    {
     "name": "stdout",
     "output_type": "stream",
     "text": [
      "Fitting 5 folds for each of 10 candidates, totalling 50 fits\n"
     ]
    },
    {
     "data": {
      "text/plain": [
       "DecisionTreeClassifier(max_depth=9, min_samples_split=10)"
      ]
     },
     "execution_count": 183,
     "metadata": {},
     "output_type": "execute_result"
    }
   ],
   "source": [
    "\n",
    "clf_DT.fit(X_train_smenn, y_train_smenn)\n",
    "clf_DT.best_estimator_"
   ]
  },
  {
   "cell_type": "code",
   "execution_count": 184,
   "id": "61c8c087",
   "metadata": {},
   "outputs": [
    {
     "name": "stdout",
     "output_type": "stream",
     "text": [
      "Confusion Matrix\n",
      "============================================================\n",
      "[[1861    0]\n",
      " [   0  139]] \n",
      "\n",
      "Classification Report\n",
      "============================================================\n",
      "              precision    recall  f1-score   support\n",
      "\n",
      "       False       1.00      1.00      1.00      1861\n",
      "        True       1.00      1.00      1.00       139\n",
      "\n",
      "    accuracy                           1.00      2000\n",
      "   macro avg       1.00      1.00      1.00      2000\n",
      "weighted avg       1.00      1.00      1.00      2000\n",
      " \n",
      "\n",
      "AUC-ROC\n",
      "============================================================\n",
      "1.0\n"
     ]
    }
   ],
   "source": [
    "test_eval(clf_DT, X_test, y_test, 'Decision Tree', 'smote+enn')\n"
   ]
  },
  {
   "cell_type": "markdown",
   "id": "b3102477",
   "metadata": {},
   "source": [
    "## Model-3: Random Forest\n",
    "\n",
    "\n",
    "1. Original Unsampled Data"
   ]
  },
  {
   "cell_type": "code",
   "execution_count": 185,
   "id": "20b3bafc",
   "metadata": {},
   "outputs": [
    {
     "name": "stdout",
     "output_type": "stream",
     "text": [
      "Fitting 5 folds for each of 20 candidates, totalling 100 fits\n"
     ]
    },
    {
     "data": {
      "text/plain": [
       "RandomForestClassifier(max_depth=15, min_samples_split=20)"
      ]
     },
     "execution_count": 185,
     "metadata": {},
     "output_type": "execute_result"
    }
   ],
   "source": [
    "rf_model = RandomForestClassifier()\n",
    "\n",
    "rf_params={'n_estimators':estimators,\n",
    "           'max_depth':max_depth,\n",
    "           'min_samples_split':min_samples_split}\n",
    "\n",
    "clf_RF = RandomizedSearchCV(rf_model, rf_params, cv=cv, scoring='roc_auc', n_jobs=-1, n_iter=20, verbose=2)\n",
    "clf_RF.fit(X_train, y_train)\n",
    "clf_RF.best_estimator_"
   ]
  },
  {
   "cell_type": "code",
   "execution_count": 186,
   "id": "8cd5c38f",
   "metadata": {},
   "outputs": [
    {
     "data": {
      "text/plain": [
       "RandomForestClassifier(max_depth=15, min_samples_split=20)"
      ]
     },
     "execution_count": 186,
     "metadata": {},
     "output_type": "execute_result"
    }
   ],
   "source": [
    "clf_RF.best_estimator_"
   ]
  },
  {
   "cell_type": "code",
   "execution_count": 187,
   "id": "117c3330",
   "metadata": {},
   "outputs": [
    {
     "name": "stdout",
     "output_type": "stream",
     "text": [
      "Fitting 5 folds for each of 20 candidates, totalling 100 fits\n"
     ]
    },
    {
     "data": {
      "text/plain": [
       "RandomizedSearchCV(cv=StratifiedKFold(n_splits=5, random_state=100, shuffle=True),\n",
       "                   estimator=RandomForestClassifier(), n_iter=20, n_jobs=-1,\n",
       "                   param_distributions={'max_depth': [5, 7, 9, 11, 13, 15],\n",
       "                                        'min_samples_split': [2, 5, 10, 15, 20,\n",
       "                                                              50, 100],\n",
       "                                        'n_estimators': [2, 10, 30, 50, 100]},\n",
       "                   scoring='roc_auc', verbose=2)"
      ]
     },
     "execution_count": 187,
     "metadata": {},
     "output_type": "execute_result"
    }
   ],
   "source": [
    "clf_RF.fit(X_train, y_train.values.ravel())"
   ]
  },
  {
   "cell_type": "code",
   "execution_count": 188,
   "id": "b9f79ea8",
   "metadata": {},
   "outputs": [
    {
     "data": {
      "text/plain": [
       "RandomForestClassifier()"
      ]
     },
     "execution_count": 188,
     "metadata": {},
     "output_type": "execute_result"
    }
   ],
   "source": [
    "rf_model.fit(X_train, y_train.values.ravel())"
   ]
  },
  {
   "cell_type": "code",
   "execution_count": 189,
   "id": "176bacc9",
   "metadata": {},
   "outputs": [],
   "source": [
    "importances = rf_model.feature_importances_\n",
    "#\n",
    "# Sort the feature importance in descending order\n",
    "#\n",
    "sorted_indices = np.argsort(importances)"
   ]
  },
  {
   "cell_type": "code",
   "execution_count": 190,
   "id": "2e2eb076",
   "metadata": {},
   "outputs": [
    {
     "data": {
      "image/png": "[encoded data removed]",
      "text/plain": [
       "<Figure size 864x576 with 1 Axes>"
      ]
     },
     "metadata": {},
     "output_type": "display_data"
    }
   ],
   "source": [
    "import matplotlib.pyplot as plt\n",
    " \n",
    "plt.title('Feature Importance')\n",
    "plt.bar(range(X_train.shape[1]), importances[sorted_indices], align='center')\n",
    "#plt.xticks(range(X_train.shape[1]), X_train.columns[sorted_indices], rotation=90)\n",
    "plt.tight_layout()\n",
    "plt.show()"
   ]
  },
  {
   "cell_type": "code",
   "execution_count": 191,
   "id": "ef374c0f",
   "metadata": {},
   "outputs": [
    {
     "name": "stdout",
     "output_type": "stream",
     "text": [
      "Confusion Matrix\n",
      "============================================================\n",
      "[[1861    0]\n",
      " [   0  139]] \n",
      "\n",
      "Classification Report\n",
      "============================================================\n",
      "              precision    recall  f1-score   support\n",
      "\n",
      "       False       1.00      1.00      1.00      1861\n",
      "        True       1.00      1.00      1.00       139\n",
      "\n",
      "    accuracy                           1.00      2000\n",
      "   macro avg       1.00      1.00      1.00      2000\n",
      "weighted avg       1.00      1.00      1.00      2000\n",
      " \n",
      "\n",
      "AUC-ROC\n",
      "============================================================\n",
      "1.0\n"
     ]
    }
   ],
   "source": [
    "test_eval(clf_RF, X_test, y_test, 'Random Forest', 'actual')\n"
   ]
  },
  {
   "cell_type": "code",
   "execution_count": 192,
   "id": "fd017733",
   "metadata": {},
   "outputs": [
    {
     "name": "stdout",
     "output_type": "stream",
     "text": [
      "Fitting 5 folds for each of 20 candidates, totalling 100 fits\n"
     ]
    },
    {
     "data": {
      "text/plain": [
       "RandomForestClassifier(max_depth=15, min_samples_split=15, n_estimators=30)"
      ]
     },
     "execution_count": 192,
     "metadata": {},
     "output_type": "execute_result"
    }
   ],
   "source": [
    "clf_RF.fit(X_train_sm, y_train_sm)\n",
    "clf_RF.best_estimator_"
   ]
  },
  {
   "cell_type": "code",
   "execution_count": 193,
   "id": "6ac5fa4b",
   "metadata": {},
   "outputs": [
    {
     "name": "stdout",
     "output_type": "stream",
     "text": [
      "Confusion Matrix\n",
      "============================================================\n",
      "[[1861    0]\n",
      " [   0  139]] \n",
      "\n",
      "Classification Report\n",
      "============================================================\n",
      "              precision    recall  f1-score   support\n",
      "\n",
      "       False       1.00      1.00      1.00      1861\n",
      "        True       1.00      1.00      1.00       139\n",
      "\n",
      "    accuracy                           1.00      2000\n",
      "   macro avg       1.00      1.00      1.00      2000\n",
      "weighted avg       1.00      1.00      1.00      2000\n",
      " \n",
      "\n",
      "AUC-ROC\n",
      "============================================================\n",
      "1.0\n"
     ]
    }
   ],
   "source": [
    "test_eval(clf_RF, X_test, y_test, 'Random Forest', 'smote')\n"
   ]
  },
  {
   "cell_type": "code",
   "execution_count": 86,
   "id": "ea28f523",
   "metadata": {},
   "outputs": [],
   "source": [
    "# 3.ADASYN Resampling\n",
    "\n",
    "# clf_RF.fit(X_train_ada, y_train_ada)\n",
    "# clf_RF.best_estimator_"
   ]
  },
  {
   "cell_type": "code",
   "execution_count": 194,
   "id": "5078f4d4",
   "metadata": {},
   "outputs": [
    {
     "name": "stdout",
     "output_type": "stream",
     "text": [
      "Confusion Matrix\n",
      "============================================================\n",
      "[[1861    0]\n",
      " [   0  139]] \n",
      "\n",
      "Classification Report\n",
      "============================================================\n",
      "              precision    recall  f1-score   support\n",
      "\n",
      "       False       1.00      1.00      1.00      1861\n",
      "        True       1.00      1.00      1.00       139\n",
      "\n",
      "    accuracy                           1.00      2000\n",
      "   macro avg       1.00      1.00      1.00      2000\n",
      "weighted avg       1.00      1.00      1.00      2000\n",
      " \n",
      "\n",
      "AUC-ROC\n",
      "============================================================\n",
      "1.0\n"
     ]
    }
   ],
   "source": [
    "test_eval(clf_RF, X_test, y_test, 'Random Forest', 'adasyn')\n"
   ]
  },
  {
   "cell_type": "markdown",
   "id": "3a9a4d0b",
   "metadata": {},
   "source": [
    "#### 4. SMOTE + Tomek Resampling"
   ]
  },
  {
   "cell_type": "code",
   "execution_count": 195,
   "id": "694a3244",
   "metadata": {},
   "outputs": [
    {
     "name": "stdout",
     "output_type": "stream",
     "text": [
      "Fitting 5 folds for each of 20 candidates, totalling 100 fits\n"
     ]
    },
    {
     "data": {
      "text/plain": [
       "RandomForestClassifier(max_depth=13, min_samples_split=50, n_estimators=50)"
      ]
     },
     "execution_count": 195,
     "metadata": {},
     "output_type": "execute_result"
    }
   ],
   "source": [
    "\n",
    "clf_RF.fit(X_train_smtom, y_train_smtom)\n",
    "clf_RF.best_estimator_"
   ]
  },
  {
   "cell_type": "code",
   "execution_count": 196,
   "id": "94f472da",
   "metadata": {},
   "outputs": [
    {
     "name": "stdout",
     "output_type": "stream",
     "text": [
      "Confusion Matrix\n",
      "============================================================\n",
      "[[1861    0]\n",
      " [   0  139]] \n",
      "\n",
      "Classification Report\n",
      "============================================================\n",
      "              precision    recall  f1-score   support\n",
      "\n",
      "       False       1.00      1.00      1.00      1861\n",
      "        True       1.00      1.00      1.00       139\n",
      "\n",
      "    accuracy                           1.00      2000\n",
      "   macro avg       1.00      1.00      1.00      2000\n",
      "weighted avg       1.00      1.00      1.00      2000\n",
      " \n",
      "\n",
      "AUC-ROC\n",
      "============================================================\n",
      "1.0\n"
     ]
    }
   ],
   "source": [
    "test_eval(clf_RF, X_test, y_test, 'Random Forest', 'smote+tomek')\n"
   ]
  },
  {
   "cell_type": "markdown",
   "id": "dbc7b045",
   "metadata": {},
   "source": [
    "#### 5. SMOTE + ENN Resampling¶\n"
   ]
  },
  {
   "cell_type": "code",
   "execution_count": 197,
   "id": "b7052e86",
   "metadata": {},
   "outputs": [
    {
     "name": "stdout",
     "output_type": "stream",
     "text": [
      "Fitting 5 folds for each of 20 candidates, totalling 100 fits\n"
     ]
    },
    {
     "data": {
      "text/plain": [
       "RandomForestClassifier(max_depth=5, min_samples_split=20)"
      ]
     },
     "execution_count": 197,
     "metadata": {},
     "output_type": "execute_result"
    }
   ],
   "source": [
    "clf_RF.fit(X_train_smenn, y_train_smenn)\n",
    "clf_RF.best_estimator_"
   ]
  },
  {
   "cell_type": "code",
   "execution_count": 198,
   "id": "b4974422",
   "metadata": {},
   "outputs": [
    {
     "name": "stdout",
     "output_type": "stream",
     "text": [
      "Confusion Matrix\n",
      "============================================================\n",
      "[[1861    0]\n",
      " [   0  139]] \n",
      "\n",
      "Classification Report\n",
      "============================================================\n",
      "              precision    recall  f1-score   support\n",
      "\n",
      "       False       1.00      1.00      1.00      1861\n",
      "        True       1.00      1.00      1.00       139\n",
      "\n",
      "    accuracy                           1.00      2000\n",
      "   macro avg       1.00      1.00      1.00      2000\n",
      "weighted avg       1.00      1.00      1.00      2000\n",
      " \n",
      "\n",
      "AUC-ROC\n",
      "============================================================\n",
      "1.0\n"
     ]
    }
   ],
   "source": [
    "test_eval(clf_RF, X_test, y_test, 'Random Forest', 'smote+enn')\n"
   ]
  },
  {
   "cell_type": "markdown",
   "id": "9e319f79",
   "metadata": {},
   "source": [
    "## Model Comparision"
   ]
  },
  {
   "cell_type": "code",
   "execution_count": 199,
   "id": "0722484e",
   "metadata": {},
   "outputs": [],
   "source": [
    "\n",
    "clf_eval_df = pd.DataFrame({'model':model,\n",
    "                            'resample':resample,\n",
    "                            'precision':precision,\n",
    "                            'recall':recall,\n",
    "                            'f1-score':F1score,\n",
    "                            'AUC-ROC':AUCROC})"
   ]
  },
  {
   "cell_type": "code",
   "execution_count": 200,
   "id": "7f2a187a",
   "metadata": {},
   "outputs": [
    {
     "data": {
      "text/html": [
       "<div>\n",
       "<style scoped>\n",
       "    .dataframe tbody tr th:only-of-type {\n",
       "        vertical-align: middle;\n",
       "    }\n",
       "\n",
       "    .dataframe tbody tr th {\n",
       "        vertical-align: top;\n",
       "    }\n",
       "\n",
       "    .dataframe thead th {\n",
       "        text-align: right;\n",
       "    }\n",
       "</style>\n",
       "<table border=\"1\" class=\"dataframe\">\n",
       "  <thead>\n",
       "    <tr style=\"text-align: right;\">\n",
       "      <th></th>\n",
       "      <th>model</th>\n",
       "      <th>resample</th>\n",
       "      <th>precision</th>\n",
       "      <th>recall</th>\n",
       "      <th>f1-score</th>\n",
       "      <th>AUC-ROC</th>\n",
       "    </tr>\n",
       "  </thead>\n",
       "  <tbody>\n",
       "    <tr>\n",
       "      <th>0</th>\n",
       "      <td>Logistic Regression</td>\n",
       "      <td>actual</td>\n",
       "      <td>0.000000</td>\n",
       "      <td>0.0</td>\n",
       "      <td>0.000000</td>\n",
       "      <td>1.0</td>\n",
       "    </tr>\n",
       "    <tr>\n",
       "      <th>1</th>\n",
       "      <td>Logistic Regression</td>\n",
       "      <td>smote</td>\n",
       "      <td>0.945578</td>\n",
       "      <td>1.0</td>\n",
       "      <td>0.972028</td>\n",
       "      <td>1.0</td>\n",
       "    </tr>\n",
       "    <tr>\n",
       "      <th>2</th>\n",
       "      <td>Logistic Regression</td>\n",
       "      <td>smote+tomek</td>\n",
       "      <td>0.945578</td>\n",
       "      <td>1.0</td>\n",
       "      <td>0.972028</td>\n",
       "      <td>1.0</td>\n",
       "    </tr>\n",
       "    <tr>\n",
       "      <th>3</th>\n",
       "      <td>Logistic Regression</td>\n",
       "      <td>smote+enn</td>\n",
       "      <td>0.945578</td>\n",
       "      <td>1.0</td>\n",
       "      <td>0.972028</td>\n",
       "      <td>1.0</td>\n",
       "    </tr>\n",
       "    <tr>\n",
       "      <th>4</th>\n",
       "      <td>Decision Tree</td>\n",
       "      <td>actual</td>\n",
       "      <td>1.000000</td>\n",
       "      <td>1.0</td>\n",
       "      <td>1.000000</td>\n",
       "      <td>1.0</td>\n",
       "    </tr>\n",
       "    <tr>\n",
       "      <th>5</th>\n",
       "      <td>Decision Tree</td>\n",
       "      <td>actual</td>\n",
       "      <td>1.000000</td>\n",
       "      <td>1.0</td>\n",
       "      <td>1.000000</td>\n",
       "      <td>1.0</td>\n",
       "    </tr>\n",
       "    <tr>\n",
       "      <th>6</th>\n",
       "      <td>Decision Tree</td>\n",
       "      <td>smote</td>\n",
       "      <td>1.000000</td>\n",
       "      <td>1.0</td>\n",
       "      <td>1.000000</td>\n",
       "      <td>1.0</td>\n",
       "    </tr>\n",
       "    <tr>\n",
       "      <th>7</th>\n",
       "      <td>Decision Tree</td>\n",
       "      <td>smote+tomek</td>\n",
       "      <td>1.000000</td>\n",
       "      <td>1.0</td>\n",
       "      <td>1.000000</td>\n",
       "      <td>1.0</td>\n",
       "    </tr>\n",
       "    <tr>\n",
       "      <th>8</th>\n",
       "      <td>Decision Tree</td>\n",
       "      <td>smote+enn</td>\n",
       "      <td>1.000000</td>\n",
       "      <td>1.0</td>\n",
       "      <td>1.000000</td>\n",
       "      <td>1.0</td>\n",
       "    </tr>\n",
       "    <tr>\n",
       "      <th>9</th>\n",
       "      <td>Random Forest</td>\n",
       "      <td>actual</td>\n",
       "      <td>1.000000</td>\n",
       "      <td>1.0</td>\n",
       "      <td>1.000000</td>\n",
       "      <td>1.0</td>\n",
       "    </tr>\n",
       "    <tr>\n",
       "      <th>10</th>\n",
       "      <td>Random Forest</td>\n",
       "      <td>smote</td>\n",
       "      <td>1.000000</td>\n",
       "      <td>1.0</td>\n",
       "      <td>1.000000</td>\n",
       "      <td>1.0</td>\n",
       "    </tr>\n",
       "    <tr>\n",
       "      <th>11</th>\n",
       "      <td>Random Forest</td>\n",
       "      <td>adasyn</td>\n",
       "      <td>1.000000</td>\n",
       "      <td>1.0</td>\n",
       "      <td>1.000000</td>\n",
       "      <td>1.0</td>\n",
       "    </tr>\n",
       "    <tr>\n",
       "      <th>12</th>\n",
       "      <td>Random Forest</td>\n",
       "      <td>smote+tomek</td>\n",
       "      <td>1.000000</td>\n",
       "      <td>1.0</td>\n",
       "      <td>1.000000</td>\n",
       "      <td>1.0</td>\n",
       "    </tr>\n",
       "    <tr>\n",
       "      <th>13</th>\n",
       "      <td>Random Forest</td>\n",
       "      <td>smote+enn</td>\n",
       "      <td>1.000000</td>\n",
       "      <td>1.0</td>\n",
       "      <td>1.000000</td>\n",
       "      <td>1.0</td>\n",
       "    </tr>\n",
       "  </tbody>\n",
       "</table>\n",
       "</div>"
      ],
      "text/plain": [
       "                  model     resample  precision  recall  f1-score  AUC-ROC\n",
       "0   Logistic Regression       actual   0.000000     0.0  0.000000      1.0\n",
       "1   Logistic Regression        smote   0.945578     1.0  0.972028      1.0\n",
       "2   Logistic Regression  smote+tomek   0.945578     1.0  0.972028      1.0\n",
       "3   Logistic Regression    smote+enn   0.945578     1.0  0.972028      1.0\n",
       "4         Decision Tree       actual   1.000000     1.0  1.000000      1.0\n",
       "5         Decision Tree       actual   1.000000     1.0  1.000000      1.0\n",
       "6         Decision Tree        smote   1.000000     1.0  1.000000      1.0\n",
       "7         Decision Tree  smote+tomek   1.000000     1.0  1.000000      1.0\n",
       "8         Decision Tree    smote+enn   1.000000     1.0  1.000000      1.0\n",
       "9         Random Forest       actual   1.000000     1.0  1.000000      1.0\n",
       "10        Random Forest        smote   1.000000     1.0  1.000000      1.0\n",
       "11        Random Forest       adasyn   1.000000     1.0  1.000000      1.0\n",
       "12        Random Forest  smote+tomek   1.000000     1.0  1.000000      1.0\n",
       "13        Random Forest    smote+enn   1.000000     1.0  1.000000      1.0"
      ]
     },
     "execution_count": 200,
     "metadata": {},
     "output_type": "execute_result"
    }
   ],
   "source": [
    "clf_eval_df"
   ]
  },
  {
   "cell_type": "code",
   "execution_count": 201,
   "id": "7782d1d2",
   "metadata": {},
   "outputs": [
    {
     "data": {
      "text/plain": [
       "<seaborn.axisgrid.FacetGrid at 0x27a81626a30>"
      ]
     },
     "execution_count": 201,
     "metadata": {},
     "output_type": "execute_result"
    },
    {
     "data": {
      "image/png": "[encoded data removed]",
      "text/plain": [
       "<Figure size 1080x360 with 3 Axes>"
      ]
     },
     "metadata": {},
     "output_type": "display_data"
    }
   ],
   "source": [
    "sns.set(font_scale=1.2)\n",
    "#sns.palplot(sns.color_palette())\n",
    "g = sns.FacetGrid(clf_eval_df, col=\"model\", height=5)\n",
    "g.map(sns.barplot, \"resample\", \"recall\", palette='twilight', order=[\"actual\", \"smote\", \"adasyn\", \"smote+tomek\", \"smote+enn\"])\n",
    "g.set_xticklabels(rotation=30)\n",
    "g.set_xlabels(' ', fontsize=14)\n",
    "g.set_ylabels('Recall', fontsize=14)"
   ]
  },
  {
   "cell_type": "markdown",
   "id": "839092ff",
   "metadata": {},
   "source": [
    "## End Notes\n",
    "\n",
    "This is an imbalanced dataset and limited to binary classification problemes. therefore, i've applied resampling techniques to this data so the models perform to their best and give most accuracte predictions. \n",
    "\n",
    "\n",
    "Kindly refer the Model Comparision. I have done on Logistic Regression, Decision Tree and Random Forest. \n"
   ]
  },
  {
   "attachments": {},
   "cell_type": "markdown",
   "id": "046eaa8b",
   "metadata": {},
   "source": [
    "#### Questions to explore:\n",
    "     \n",
    "        \n",
    "● Which features should be discarded? Why? \n",
    "\n",
    "       * I have dropped 'approved_for_installments', 'customer_credit_score', 'customer_id', 'customer_billing_zip', 'customer_shipping_zip','credit_decision_started_at', 'order_id' as this not caused anything with the output.  *\n",
    "\n",
    "    \n",
    "● What surprised you about the results/trends observed in the data?  \n",
    "\n",
    "         * this is an imbalanced dataset, after resampling and tried with 3 Classification algorithm, it still Overfitting...  To bring that to best fit, we may need to increase the dataset by increasing to atleast 3 years of data to avoid overfitting. *                  \n",
    "\n",
    "\n",
    "● What additional data would you like to see that might help build a better installment-approval classifier? \n",
    "\n",
    "          * currently this dataset has 10000 rows which may be the reason it overfitted.  we need to increase the sample of dataset by atleast 3 years so that we will rebuilt the model and gets better accuracy  and gets a best fit. *\n",
    "\n",
    "\n",
    "● Which features show strong correlation with a customer’s likelihood of paying back installments? \n",
    "\n",
    "        * When checked the feature importance I can see customer's age, amount are all correlated with the paid installment. *\n",
    "        \n",
    "\n",
    "● What would be your next steps to train/build a model that we could use to make real time customer approval decisions?  \n",
    "\n",
    "                * increase the sample to min 3-5 years can improve the model and that makes to move to production/cutomer approval.*"
   ]
  },
  {
   "cell_type": "code",
   "execution_count": null,
   "id": "edd5f2e1",
   "metadata": {},
   "outputs": [],
   "source": []
  },
  {
   "cell_type": "code",
   "execution_count": null,
   "id": "fa5b288a",
   "metadata": {},
   "outputs": [],
   "source": []
  },
  {
   "cell_type": "code",
   "execution_count": null,
   "id": "4412bd14",
   "metadata": {},
   "outputs": [],
   "source": []
  },
  {
   "cell_type": "code",
   "execution_count": null,
   "id": "c899d5f2",
   "metadata": {},
   "outputs": [],
   "source": []
  },
  {
   "cell_type": "code",
   "execution_count": null,
   "id": "c9b64dbf",
   "metadata": {},
   "outputs": [],
   "source": []
  },
  {
   "cell_type": "code",
   "execution_count": null,
   "id": "3ffe362d",
   "metadata": {},
   "outputs": [],
   "source": []
  },
  {
   "cell_type": "code",
   "execution_count": null,
   "id": "02722354",
   "metadata": {},
   "outputs": [],
   "source": []
  },
  {
   "cell_type": "code",
   "execution_count": null,
   "id": "b9ad8340",
   "metadata": {},
   "outputs": [],
   "source": []
  },
  {
   "cell_type": "code",
   "execution_count": null,
   "id": "5ea11088",
   "metadata": {},
   "outputs": [],
   "source": []
  },
  {
   "cell_type": "code",
   "execution_count": null,
   "id": "89cf3e34",
   "metadata": {},
   "outputs": [],
   "source": []
  },
  {
   "cell_type": "code",
   "execution_count": null,
   "id": "1765b861",
   "metadata": {},
   "outputs": [],
   "source": []
  },
  {
   "cell_type": "code",
   "execution_count": null,
   "id": "0f4aeadb",
   "metadata": {},
   "outputs": [],
   "source": []
  },
  {
   "cell_type": "code",
   "execution_count": null,
   "id": "136e4ca1",
   "metadata": {},
   "outputs": [],
   "source": []
  },
  {
   "cell_type": "code",
   "execution_count": null,
   "id": "7486ceb4",
   "metadata": {},
   "outputs": [],
   "source": [
    "how to get impo varaiblt using rf\n",
    "?\n",
    "\n",
    "\n",
    "10000 provide hiher df, over futting can be overcome\n",
    "\n",
    "\n"
   ]
  },
  {
   "cell_type": "code",
   "execution_count": null,
   "id": "41a5575a",
   "metadata": {},
   "outputs": [],
   "source": []
  },
  {
   "cell_type": "code",
   "execution_count": null,
   "id": "53f863b0",
   "metadata": {},
   "outputs": [],
   "source": []
  },
  {
   "cell_type": "code",
   "execution_count": null,
   "id": "adc90a48",
   "metadata": {},
   "outputs": [],
   "source": []
  }
 ],
 "metadata": {
  "kernelspec": {
   "display_name": "Python 3",
   "language": "python",
   "name": "python3"
  },
  "language_info": {
   "codemirror_mode": {
    "name": "ipython",
    "version": 3
   },
   "file_extension": ".py",
   "mimetype": "text/x-python",
   "name": "python",
   "nbconvert_exporter": "python",
   "pygments_lexer": "ipython3",
   "version": "3.8.8"
  }
 },
 "nbformat": 4,
 "nbformat_minor": 5
}
